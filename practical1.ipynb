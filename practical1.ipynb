{
 "cells": [
  {
   "cell_type": "markdown",
   "metadata": {},
   "source": [
    "## Practical 1: word2vec\n",
    "<p>Oxford CS - Deep NLP 2017<br>\n",
    "https://www.cs.ox.ac.uk/teaching/courses/2016-2017/dl/</p>\n",
    "<p>[Yannis Assael, Brendan Shillingford, Chris Dyer]</p>"
   ]
  },
  {
   "cell_type": "markdown",
   "metadata": {},
   "source": [
    "This practical is presented as an IPython Notebook, with the code written for recent versions of **Python 3**. The code in this practical will not work with Python 2 unless you modify it. If you are using your own Python installation, ensure you have a setup identical to that described in the installation shell script (which is intended for use with the department lab machines). We will be unable to support installation on personal machines due to time constraints, so please use the lab machines and the setup script if you are unfamiliar with how to install Anaconda.\n",
    "\n",
    "To execute a notebook cell, press `shift-enter`. The return value of the last command will be displayed, if it is not `None`.\n",
    "\n",
    "Potentially useful library documentation, references, and resources:\n",
    "\n",
    "* IPython notebooks: <https://ipython.org/ipython-doc/3/notebook/notebook.html#introduction>\n",
    "* Numpy numerical array library: <https://docs.scipy.org/doc/>\n",
    "* Gensim's word2vec: <https://radimrehurek.com/gensim/models/word2vec.html>\n",
    "* Bokeh interactive plots: <http://bokeh.pydata.org/en/latest/> (we provide plotting code here, but click the thumbnails for more examples to copy-paste)\n",
    "* scikit-learn ML library (aka `sklearn`): <http://scikit-learn.org/stable/documentation.html>\n",
    "* nltk NLP toolkit: <http://www.nltk.org/>\n",
    "* tutorial for processing xml in python using `lxml`: <http://lxml.de/tutorial.html> (we did this for you below, but in case you need it in the future)"
   ]
  },
  {
   "cell_type": "code",
   "execution_count": 1,
   "metadata": {
    "collapsed": false
   },
   "outputs": [],
   "source": [
    "import numpy as np\n",
    "import os\n",
    "from random import shuffle\n",
    "import re"
   ]
  },
  {
   "cell_type": "code",
   "execution_count": 2,
   "metadata": {
    "collapsed": false
   },
   "outputs": [
    {
     "data": {
      "text/html": [
       "\n",
       "    <div class=\"bk-root\">\n",
       "        <a href=\"http://bokeh.pydata.org\" target=\"_blank\" class=\"bk-logo bk-logo-small bk-logo-notebook\"></a>\n",
       "        <span id=\"0029e20e-42a2-4f61-ab44-0c8518f3a961\">Loading BokehJS ...</span>\n",
       "    </div>"
      ]
     },
     "metadata": {},
     "output_type": "display_data"
    },
    {
     "data": {
      "application/javascript": [
       "\n",
       "(function(global) {\n",
       "  function now() {\n",
       "    return new Date();\n",
       "  }\n",
       "\n",
       "  var force = \"1\";\n",
       "\n",
       "  if (typeof (window._bokeh_onload_callbacks) === \"undefined\" || force !== \"\") {\n",
       "    window._bokeh_onload_callbacks = [];\n",
       "    window._bokeh_is_loading = undefined;\n",
       "  }\n",
       "\n",
       "\n",
       "  \n",
       "  if (typeof (window._bokeh_timeout) === \"undefined\" || force !== \"\") {\n",
       "    window._bokeh_timeout = Date.now() + 5000;\n",
       "    window._bokeh_failed_load = false;\n",
       "  }\n",
       "\n",
       "  var NB_LOAD_WARNING = {'data': {'text/html':\n",
       "     \"<div style='background-color: #fdd'>\\n\"+\n",
       "     \"<p>\\n\"+\n",
       "     \"BokehJS does not appear to have successfully loaded. If loading BokehJS from CDN, this \\n\"+\n",
       "     \"may be due to a slow or bad network connection. Possible fixes:\\n\"+\n",
       "     \"</p>\\n\"+\n",
       "     \"<ul>\\n\"+\n",
       "     \"<li>re-rerun `output_notebook()` to attempt to load from CDN again, or</li>\\n\"+\n",
       "     \"<li>use INLINE resources instead, as so:</li>\\n\"+\n",
       "     \"</ul>\\n\"+\n",
       "     \"<code>\\n\"+\n",
       "     \"from bokeh.resources import INLINE\\n\"+\n",
       "     \"output_notebook(resources=INLINE)\\n\"+\n",
       "     \"</code>\\n\"+\n",
       "     \"</div>\"}};\n",
       "\n",
       "  function display_loaded() {\n",
       "    if (window.Bokeh !== undefined) {\n",
       "      Bokeh.$(\"#0029e20e-42a2-4f61-ab44-0c8518f3a961\").text(\"BokehJS successfully loaded.\");\n",
       "    } else if (Date.now() < window._bokeh_timeout) {\n",
       "      setTimeout(display_loaded, 100)\n",
       "    }\n",
       "  }\n",
       "\n",
       "  function run_callbacks() {\n",
       "    window._bokeh_onload_callbacks.forEach(function(callback) { callback() });\n",
       "    delete window._bokeh_onload_callbacks\n",
       "    console.info(\"Bokeh: all callbacks have finished\");\n",
       "  }\n",
       "\n",
       "  function load_libs(js_urls, callback) {\n",
       "    window._bokeh_onload_callbacks.push(callback);\n",
       "    if (window._bokeh_is_loading > 0) {\n",
       "      console.log(\"Bokeh: BokehJS is being loaded, scheduling callback at\", now());\n",
       "      return null;\n",
       "    }\n",
       "    if (js_urls == null || js_urls.length === 0) {\n",
       "      run_callbacks();\n",
       "      return null;\n",
       "    }\n",
       "    console.log(\"Bokeh: BokehJS not loaded, scheduling load and callback at\", now());\n",
       "    window._bokeh_is_loading = js_urls.length;\n",
       "    for (var i = 0; i < js_urls.length; i++) {\n",
       "      var url = js_urls[i];\n",
       "      var s = document.createElement('script');\n",
       "      s.src = url;\n",
       "      s.async = false;\n",
       "      s.onreadystatechange = s.onload = function() {\n",
       "        window._bokeh_is_loading--;\n",
       "        if (window._bokeh_is_loading === 0) {\n",
       "          console.log(\"Bokeh: all BokehJS libraries loaded\");\n",
       "          run_callbacks()\n",
       "        }\n",
       "      };\n",
       "      s.onerror = function() {\n",
       "        console.warn(\"failed to load library \" + url);\n",
       "      };\n",
       "      console.log(\"Bokeh: injecting script tag for BokehJS library: \", url);\n",
       "      document.getElementsByTagName(\"head\")[0].appendChild(s);\n",
       "    }\n",
       "  };var element = document.getElementById(\"0029e20e-42a2-4f61-ab44-0c8518f3a961\");\n",
       "  if (element == null) {\n",
       "    console.log(\"Bokeh: ERROR: autoload.js configured with elementid '0029e20e-42a2-4f61-ab44-0c8518f3a961' but no matching script tag was found. \")\n",
       "    return false;\n",
       "  }\n",
       "\n",
       "  var js_urls = ['https://cdn.pydata.org/bokeh/release/bokeh-0.12.2.min.js', 'https://cdn.pydata.org/bokeh/release/bokeh-widgets-0.12.2.min.js', 'https://cdn.pydata.org/bokeh/release/bokeh-compiler-0.12.2.min.js'];\n",
       "\n",
       "  var inline_js = [\n",
       "    function(Bokeh) {\n",
       "      Bokeh.set_log_level(\"info\");\n",
       "    },\n",
       "    \n",
       "    function(Bokeh) {\n",
       "      \n",
       "      Bokeh.$(\"#0029e20e-42a2-4f61-ab44-0c8518f3a961\").text(\"BokehJS is loading...\");\n",
       "    },\n",
       "    function(Bokeh) {\n",
       "      console.log(\"Bokeh: injecting CSS: https://cdn.pydata.org/bokeh/release/bokeh-0.12.2.min.css\");\n",
       "      Bokeh.embed.inject_css(\"https://cdn.pydata.org/bokeh/release/bokeh-0.12.2.min.css\");\n",
       "      console.log(\"Bokeh: injecting CSS: https://cdn.pydata.org/bokeh/release/bokeh-widgets-0.12.2.min.css\");\n",
       "      Bokeh.embed.inject_css(\"https://cdn.pydata.org/bokeh/release/bokeh-widgets-0.12.2.min.css\");\n",
       "    }\n",
       "  ];\n",
       "\n",
       "  function run_inline_js() {\n",
       "    \n",
       "    if ((window.Bokeh !== undefined) || (force === \"1\")) {\n",
       "      for (var i = 0; i < inline_js.length; i++) {\n",
       "        inline_js[i](window.Bokeh);\n",
       "      }if (force === \"1\") {\n",
       "        display_loaded();\n",
       "      }} else if (Date.now() < window._bokeh_timeout) {\n",
       "      setTimeout(run_inline_js, 100);\n",
       "    } else if (!window._bokeh_failed_load) {\n",
       "      console.log(\"Bokeh: BokehJS failed to load within specified timeout.\");\n",
       "      window._bokeh_failed_load = true;\n",
       "    } else if (!force) {\n",
       "      var cell = $(\"#0029e20e-42a2-4f61-ab44-0c8518f3a961\").parents('.cell').data().cell;\n",
       "      cell.output_area.append_execute_result(NB_LOAD_WARNING)\n",
       "    }\n",
       "\n",
       "  }\n",
       "\n",
       "  if (window._bokeh_is_loading === 0) {\n",
       "    console.log(\"Bokeh: BokehJS loaded, going straight to plotting\");\n",
       "    run_inline_js();\n",
       "  } else {\n",
       "    load_libs(js_urls, function() {\n",
       "      console.log(\"Bokeh: BokehJS plotting callback run at\", now());\n",
       "      run_inline_js();\n",
       "    });\n",
       "  }\n",
       "}(this));"
      ]
     },
     "metadata": {},
     "output_type": "display_data"
    }
   ],
   "source": [
    "from bokeh.models import ColumnDataSource, LabelSet\n",
    "from bokeh.plotting import figure, show, output_file\n",
    "from bokeh.io import output_notebook\n",
    "output_notebook()"
   ]
  },
  {
   "cell_type": "markdown",
   "metadata": {},
   "source": [
    "### Part 0: Download the TED dataset"
   ]
  },
  {
   "cell_type": "code",
   "execution_count": 3,
   "metadata": {
    "collapsed": false
   },
   "outputs": [],
   "source": [
    "import urllib.request\n",
    "import zipfile\n",
    "import lxml.etree"
   ]
  },
  {
   "cell_type": "code",
   "execution_count": 4,
   "metadata": {
    "collapsed": false
   },
   "outputs": [],
   "source": [
    "# Download the dataset if it's not already there: this may take a minute as it is 75MB\n",
    "if not os.path.isfile('ted_en-20160408.zip'):\n",
    "    urllib.request.urlretrieve(\"https://wit3.fbk.eu/get.php?path=XML_releases/xml/ted_en-20160408.zip&filename=ted_en-20160408.zip\", filename=\"ted_en-20160408.zip\")"
   ]
  },
  {
   "cell_type": "code",
   "execution_count": 5,
   "metadata": {
    "collapsed": true
   },
   "outputs": [],
   "source": [
    "# For now, we're only interested in the subtitle text, so let's extract that from the XML:\n",
    "with zipfile.ZipFile('ted_en-20160408.zip', 'r') as z:\n",
    "    doc = lxml.etree.parse(z.open('ted_en-20160408.xml', 'r'))\n",
    "input_text = '\\n'.join(doc.xpath('//content/text()'))\n",
    "del doc"
   ]
  },
  {
   "cell_type": "markdown",
   "metadata": {},
   "source": [
    "### Part 1: Preprocessing\n",
    "\n",
    "In this part, we attempt to clean up the raw subtitles a bit, so that we get only sentences. The following substring shows examples of what we're trying to get rid of. Since it's hard to define precisely what we want to get rid of, we'll just use some simple heuristics."
   ]
  },
  {
   "cell_type": "code",
   "execution_count": 6,
   "metadata": {
    "collapsed": false,
    "scrolled": false
   },
   "outputs": [
    {
     "data": {
      "text/plain": [
       "' baby does.\\n(Video) Hyowon Gweon: See this? (Ball squeaks) Did you see that? (Ball squeaks) Cool. See this one? (Ball squeaks) Wow.\\nLaura Schulz: Told you. (Laughs)\\n(Vide'"
      ]
     },
     "execution_count": 6,
     "metadata": {},
     "output_type": "execute_result"
    }
   ],
   "source": [
    "i = input_text.find(\"Hyowon Gweon: See this?\")\n",
    "input_text[i-20:i+150]"
   ]
  },
  {
   "cell_type": "markdown",
   "metadata": {},
   "source": [
    "Let's start by removing all parenthesized strings using a regex:"
   ]
  },
  {
   "cell_type": "code",
   "execution_count": 7,
   "metadata": {
    "collapsed": true
   },
   "outputs": [],
   "source": [
    "input_text_noparens = re.sub(r'\\([^)]*\\)', '', input_text)"
   ]
  },
  {
   "cell_type": "markdown",
   "metadata": {},
   "source": [
    "We can verify the same location in the text is now clean as follows. We won't worry about the irregular spaces since we'll later split the text into sentences and tokenize it anyway."
   ]
  },
  {
   "cell_type": "code",
   "execution_count": 8,
   "metadata": {
    "collapsed": false
   },
   "outputs": [
    {
     "data": {
      "text/plain": [
       "\"hat the baby does.\\n Hyowon Gweon: See this?  Did you see that?  Cool. See this one?  Wow.\\nLaura Schulz: Told you. \\n HG: See this one?  Hey Clara, this one's for you. You \""
      ]
     },
     "execution_count": 8,
     "metadata": {},
     "output_type": "execute_result"
    }
   ],
   "source": [
    "i = input_text_noparens.find(\"Hyowon Gweon: See this?\")\n",
    "input_text_noparens[i-20:i+150]"
   ]
  },
  {
   "cell_type": "markdown",
   "metadata": {},
   "source": [
    "Now, let's attempt to remove speakers' names that occur at the beginning of a line, by deleting pieces of the form \"`<up to 20 characters>:`\", as shown in this example. Of course, this is an imperfect heuristic. "
   ]
  },
  {
   "cell_type": "code",
   "execution_count": 9,
   "metadata": {
    "collapsed": false
   },
   "outputs": [
    {
     "data": {
      "text/plain": [
       "[\"Here are two reasons companies fail: they only do more of the same, or they only do what's new\",\n",
       " 'To me the real, real solution to quality growth is figuring out the balance between two activities: exploration and exploitation',\n",
       " ' Both are necessary, but it can be too much of a good thing',\n",
       " 'Consider Facit',\n",
       " \" I'm actually old enough to remember them\"]"
      ]
     },
     "execution_count": 9,
     "metadata": {},
     "output_type": "execute_result"
    }
   ],
   "source": [
    "sentences_strings_ted = []\n",
    "for line in input_text_noparens.split('\\n'):\n",
    "    m = re.match(r'^(?:(?P<precolon>[^:]{,20}):)?(?P<postcolon>.*)$', line)\n",
    "    sentences_strings_ted.extend(sent for sent in m.groupdict()['postcolon'].split('.') if sent)\n",
    "\n",
    "# Uncomment if you need to save some RAM: these strings are about 50MB.\n",
    "# del input_text, input_text_noparens\n",
    "\n",
    "# Let's view the first few:\n",
    "sentences_strings_ted[:5]"
   ]
  },
  {
   "cell_type": "markdown",
   "metadata": {},
   "source": [
    "Now that we have sentences, we're ready to tokenize each of them into words. This tokenization is imperfect, of course. For instance, how many tokens is \"can't\", and where/how do we split it? We'll take the simplest naive approach of splitting on spaces. Before splitting, we remove non-alphanumeric characters, such as punctuation. You may want to consider the following question: why do we replace these characters with spaces rather than deleting them? Think of a case where this yields a different answer."
   ]
  },
  {
   "cell_type": "code",
   "execution_count": 10,
   "metadata": {
    "collapsed": false
   },
   "outputs": [],
   "source": [
    "sentences_ted = []\n",
    "for sent_str in sentences_strings_ted:\n",
    "    tokens = re.sub(r\"[^a-z0-9]+\", \" \", sent_str.lower()).split()\n",
    "    sentences_ted.append(tokens)"
   ]
  },
  {
   "cell_type": "markdown",
   "metadata": {},
   "source": [
    "Two sample processed sentences:"
   ]
  },
  {
   "cell_type": "code",
   "execution_count": 11,
   "metadata": {
    "collapsed": false
   },
   "outputs": [
    {
     "data": {
      "text/plain": [
       "266694"
      ]
     },
     "execution_count": 11,
     "metadata": {},
     "output_type": "execute_result"
    }
   ],
   "source": [
    "len(sentences_ted)"
   ]
  },
  {
   "cell_type": "code",
   "execution_count": 12,
   "metadata": {
    "collapsed": false
   },
   "outputs": [
    {
     "name": "stdout",
     "output_type": "stream",
     "text": [
      "['here', 'are', 'two', 'reasons', 'companies', 'fail', 'they', 'only', 'do', 'more', 'of', 'the', 'same', 'or', 'they', 'only', 'do', 'what', 's', 'new']\n",
      "['to', 'me', 'the', 'real', 'real', 'solution', 'to', 'quality', 'growth', 'is', 'figuring', 'out', 'the', 'balance', 'between', 'two', 'activities', 'exploration', 'and', 'exploitation']\n"
     ]
    }
   ],
   "source": [
    "print(sentences_ted[0])\n",
    "print(sentences_ted[1])"
   ]
  },
  {
   "cell_type": "markdown",
   "metadata": {},
   "source": [
    "### Part 2: Word Frequencies"
   ]
  },
  {
   "cell_type": "markdown",
   "metadata": {},
   "source": [
    "If you store the counts of the top 1000 words in a list called `counts_ted_top1000`, the code below will plot the histogram requested in the writeup."
   ]
  },
  {
   "cell_type": "code",
   "execution_count": 13,
   "metadata": {
    "collapsed": true
   },
   "outputs": [],
   "source": [
    "# ...\n",
    "from collections import Counter\n",
    "counts_kv_top1000 = Counter([word for sen in sentences_ted for word in sen]).most_common(1000)\n",
    "counts_ted_top1000 = [kv[1] for kv in counts_kv_top1000]"
   ]
  },
  {
   "cell_type": "markdown",
   "metadata": {},
   "source": [
    "Plot distribution of top-1000 words"
   ]
  },
  {
   "cell_type": "code",
   "execution_count": 14,
   "metadata": {
    "collapsed": false
   },
   "outputs": [
    {
     "data": {
      "text/html": [
       "\n",
       "\n",
       "    <div class=\"bk-root\">\n",
       "        <div class=\"plotdiv\" id=\"cea4b4ca-121e-4bed-995f-5f41ac9fd8a0\"></div>\n",
       "    </div>\n",
       "<script type=\"text/javascript\">\n",
       "  \n",
       "  (function(global) {\n",
       "    function now() {\n",
       "      return new Date();\n",
       "    }\n",
       "  \n",
       "    var force = \"\";\n",
       "  \n",
       "    if (typeof (window._bokeh_onload_callbacks) === \"undefined\" || force !== \"\") {\n",
       "      window._bokeh_onload_callbacks = [];\n",
       "      window._bokeh_is_loading = undefined;\n",
       "    }\n",
       "  \n",
       "  \n",
       "    \n",
       "    if (typeof (window._bokeh_timeout) === \"undefined\" || force !== \"\") {\n",
       "      window._bokeh_timeout = Date.now() + 0;\n",
       "      window._bokeh_failed_load = false;\n",
       "    }\n",
       "  \n",
       "    var NB_LOAD_WARNING = {'data': {'text/html':\n",
       "       \"<div style='background-color: #fdd'>\\n\"+\n",
       "       \"<p>\\n\"+\n",
       "       \"BokehJS does not appear to have successfully loaded. If loading BokehJS from CDN, this \\n\"+\n",
       "       \"may be due to a slow or bad network connection. Possible fixes:\\n\"+\n",
       "       \"</p>\\n\"+\n",
       "       \"<ul>\\n\"+\n",
       "       \"<li>re-rerun `output_notebook()` to attempt to load from CDN again, or</li>\\n\"+\n",
       "       \"<li>use INLINE resources instead, as so:</li>\\n\"+\n",
       "       \"</ul>\\n\"+\n",
       "       \"<code>\\n\"+\n",
       "       \"from bokeh.resources import INLINE\\n\"+\n",
       "       \"output_notebook(resources=INLINE)\\n\"+\n",
       "       \"</code>\\n\"+\n",
       "       \"</div>\"}};\n",
       "  \n",
       "    function display_loaded() {\n",
       "      if (window.Bokeh !== undefined) {\n",
       "        Bokeh.$(\"#cea4b4ca-121e-4bed-995f-5f41ac9fd8a0\").text(\"BokehJS successfully loaded.\");\n",
       "      } else if (Date.now() < window._bokeh_timeout) {\n",
       "        setTimeout(display_loaded, 100)\n",
       "      }\n",
       "    }\n",
       "  \n",
       "    function run_callbacks() {\n",
       "      window._bokeh_onload_callbacks.forEach(function(callback) { callback() });\n",
       "      delete window._bokeh_onload_callbacks\n",
       "      console.info(\"Bokeh: all callbacks have finished\");\n",
       "    }\n",
       "  \n",
       "    function load_libs(js_urls, callback) {\n",
       "      window._bokeh_onload_callbacks.push(callback);\n",
       "      if (window._bokeh_is_loading > 0) {\n",
       "        console.log(\"Bokeh: BokehJS is being loaded, scheduling callback at\", now());\n",
       "        return null;\n",
       "      }\n",
       "      if (js_urls == null || js_urls.length === 0) {\n",
       "        run_callbacks();\n",
       "        return null;\n",
       "      }\n",
       "      console.log(\"Bokeh: BokehJS not loaded, scheduling load and callback at\", now());\n",
       "      window._bokeh_is_loading = js_urls.length;\n",
       "      for (var i = 0; i < js_urls.length; i++) {\n",
       "        var url = js_urls[i];\n",
       "        var s = document.createElement('script');\n",
       "        s.src = url;\n",
       "        s.async = false;\n",
       "        s.onreadystatechange = s.onload = function() {\n",
       "          window._bokeh_is_loading--;\n",
       "          if (window._bokeh_is_loading === 0) {\n",
       "            console.log(\"Bokeh: all BokehJS libraries loaded\");\n",
       "            run_callbacks()\n",
       "          }\n",
       "        };\n",
       "        s.onerror = function() {\n",
       "          console.warn(\"failed to load library \" + url);\n",
       "        };\n",
       "        console.log(\"Bokeh: injecting script tag for BokehJS library: \", url);\n",
       "        document.getElementsByTagName(\"head\")[0].appendChild(s);\n",
       "      }\n",
       "    };var element = document.getElementById(\"cea4b4ca-121e-4bed-995f-5f41ac9fd8a0\");\n",
       "    if (element == null) {\n",
       "      console.log(\"Bokeh: ERROR: autoload.js configured with elementid 'cea4b4ca-121e-4bed-995f-5f41ac9fd8a0' but no matching script tag was found. \")\n",
       "      return false;\n",
       "    }\n",
       "  \n",
       "    var js_urls = [];\n",
       "  \n",
       "    var inline_js = [\n",
       "      function(Bokeh) {\n",
       "        Bokeh.$(function() {\n",
       "            var docs_json = {\"d1886748-9a87-4370-98af-2de5ac5977b3\":{\"roots\":{\"references\":[{\"attributes\":{\"active_drag\":\"auto\",\"active_scroll\":\"auto\",\"active_tap\":\"auto\",\"tools\":[{\"id\":\"50eb74c7-fe9b-4384-b34d-9437e4a30b27\",\"type\":\"PanTool\"},{\"id\":\"0aa57b82-7de8-4361-aa94-232261774bf9\",\"type\":\"WheelZoomTool\"},{\"id\":\"805869dd-45e1-489a-a4c7-ed16c2432809\",\"type\":\"ResetTool\"},{\"id\":\"a1fa4852-91c3-4824-9fd8-111a43f48607\",\"type\":\"SaveTool\"}]},\"id\":\"25d6fadb-87eb-49af-aaac-6f41ea501d28\",\"type\":\"Toolbar\"},{\"attributes\":{\"callback\":null},\"id\":\"39831415-c21b-4876-8633-80ba6ebe3ef8\",\"type\":\"DataRange1d\"},{\"attributes\":{},\"id\":\"3a586523-b6f4-4fde-b5f9-7d4bd36fb4eb\",\"type\":\"BasicTickFormatter\"},{\"attributes\":{\"formatter\":{\"id\":\"b80a958c-1491-42bf-bc45-ffa7bd7e85b3\",\"type\":\"BasicTickFormatter\"},\"plot\":{\"id\":\"ec73adc6-05e9-43ad-81ba-3c635a41fe42\",\"subtype\":\"Figure\",\"type\":\"Plot\"},\"ticker\":{\"id\":\"3000be6f-5c04-4be6-9eef-b3b66f8b4839\",\"type\":\"BasicTicker\"}},\"id\":\"28a74e07-a9f7-496c-b373-e97ea836814b\",\"type\":\"LinearAxis\"},{\"attributes\":{},\"id\":\"b80a958c-1491-42bf-bc45-ffa7bd7e85b3\",\"type\":\"BasicTickFormatter\"},{\"attributes\":{\"callback\":null},\"id\":\"30a082c0-a0e1-4a29-a455-13f02def4e7a\",\"type\":\"DataRange1d\"},{\"attributes\":{\"dimension\":1,\"plot\":{\"id\":\"ec73adc6-05e9-43ad-81ba-3c635a41fe42\",\"subtype\":\"Figure\",\"type\":\"Plot\"},\"ticker\":{\"id\":\"3000be6f-5c04-4be6-9eef-b3b66f8b4839\",\"type\":\"BasicTicker\"}},\"id\":\"35961b6f-53ea-4e08-8628-386466937cab\",\"type\":\"Grid\"},{\"attributes\":{\"data_source\":{\"id\":\"bdf02ad0-5493-419b-b1dd-95d87fcefc8e\",\"type\":\"ColumnDataSource\"},\"glyph\":{\"id\":\"0471f32c-b9a9-44d6-aae7-21576b6478cf\",\"type\":\"Quad\"},\"hover_glyph\":null,\"nonselection_glyph\":{\"id\":\"380e09c7-d7f5-4983-a5ef-3dac46709a1c\",\"type\":\"Quad\"},\"selection_glyph\":null},\"id\":\"55f6497b-fe99-48e3-9c8b-66903a88738b\",\"type\":\"GlyphRenderer\"},{\"attributes\":{\"bottom\":{\"value\":0},\"fill_color\":{\"value\":\"#1f77b4\"},\"left\":{\"field\":\"left\"},\"line_color\":{\"value\":\"#555555\"},\"right\":{\"field\":\"right\"},\"top\":{\"field\":\"top\"}},\"id\":\"0471f32c-b9a9-44d6-aae7-21576b6478cf\",\"type\":\"Quad\"},{\"attributes\":{},\"id\":\"0283ce3e-2e79-4b91-8697-727b3b17bf1e\",\"type\":\"BasicTicker\"},{\"attributes\":{},\"id\":\"a882bfdc-0783-4148-b99c-d2558673ec4e\",\"type\":\"ToolEvents\"},{\"attributes\":{\"plot\":{\"id\":\"ec73adc6-05e9-43ad-81ba-3c635a41fe42\",\"subtype\":\"Figure\",\"type\":\"Plot\"}},\"id\":\"a1fa4852-91c3-4824-9fd8-111a43f48607\",\"type\":\"SaveTool\"},{\"attributes\":{\"plot\":{\"id\":\"ec73adc6-05e9-43ad-81ba-3c635a41fe42\",\"subtype\":\"Figure\",\"type\":\"Plot\"}},\"id\":\"50eb74c7-fe9b-4384-b34d-9437e4a30b27\",\"type\":\"PanTool\"},{\"attributes\":{\"formatter\":{\"id\":\"3a586523-b6f4-4fde-b5f9-7d4bd36fb4eb\",\"type\":\"BasicTickFormatter\"},\"plot\":{\"id\":\"ec73adc6-05e9-43ad-81ba-3c635a41fe42\",\"subtype\":\"Figure\",\"type\":\"Plot\"},\"ticker\":{\"id\":\"0283ce3e-2e79-4b91-8697-727b3b17bf1e\",\"type\":\"BasicTicker\"}},\"id\":\"d8210d5d-663f-499c-a19d-f937f192d513\",\"type\":\"LinearAxis\"},{\"attributes\":{\"plot\":null,\"text\":\"Top-1000 words distribution\"},\"id\":\"031ea364-1e47-4e15-b1d0-db5e73e3170f\",\"type\":\"Title\"},{\"attributes\":{\"plot\":{\"id\":\"ec73adc6-05e9-43ad-81ba-3c635a41fe42\",\"subtype\":\"Figure\",\"type\":\"Plot\"}},\"id\":\"805869dd-45e1-489a-a4c7-ed16c2432809\",\"type\":\"ResetTool\"},{\"attributes\":{\"bottom\":{\"value\":0},\"fill_alpha\":{\"value\":0.1},\"fill_color\":{\"value\":\"#1f77b4\"},\"left\":{\"field\":\"left\"},\"line_alpha\":{\"value\":0.1},\"line_color\":{\"value\":\"#1f77b4\"},\"right\":{\"field\":\"right\"},\"top\":{\"field\":\"top\"}},\"id\":\"380e09c7-d7f5-4983-a5ef-3dac46709a1c\",\"type\":\"Quad\"},{\"attributes\":{\"plot\":{\"id\":\"ec73adc6-05e9-43ad-81ba-3c635a41fe42\",\"subtype\":\"Figure\",\"type\":\"Plot\"},\"ticker\":{\"id\":\"0283ce3e-2e79-4b91-8697-727b3b17bf1e\",\"type\":\"BasicTicker\"}},\"id\":\"4d21eb13-188c-47c2-babb-14dd5fe3a6f4\",\"type\":\"Grid\"},{\"attributes\":{\"below\":[{\"id\":\"d8210d5d-663f-499c-a19d-f937f192d513\",\"type\":\"LinearAxis\"}],\"left\":[{\"id\":\"28a74e07-a9f7-496c-b373-e97ea836814b\",\"type\":\"LinearAxis\"}],\"renderers\":[{\"id\":\"d8210d5d-663f-499c-a19d-f937f192d513\",\"type\":\"LinearAxis\"},{\"id\":\"4d21eb13-188c-47c2-babb-14dd5fe3a6f4\",\"type\":\"Grid\"},{\"id\":\"28a74e07-a9f7-496c-b373-e97ea836814b\",\"type\":\"LinearAxis\"},{\"id\":\"35961b6f-53ea-4e08-8628-386466937cab\",\"type\":\"Grid\"},{\"id\":\"55f6497b-fe99-48e3-9c8b-66903a88738b\",\"type\":\"GlyphRenderer\"}],\"title\":{\"id\":\"031ea364-1e47-4e15-b1d0-db5e73e3170f\",\"type\":\"Title\"},\"tool_events\":{\"id\":\"a882bfdc-0783-4148-b99c-d2558673ec4e\",\"type\":\"ToolEvents\"},\"toolbar\":{\"id\":\"25d6fadb-87eb-49af-aaac-6f41ea501d28\",\"type\":\"Toolbar\"},\"toolbar_location\":\"above\",\"x_range\":{\"id\":\"30a082c0-a0e1-4a29-a455-13f02def4e7a\",\"type\":\"DataRange1d\"},\"y_range\":{\"id\":\"39831415-c21b-4876-8633-80ba6ebe3ef8\",\"type\":\"DataRange1d\"}},\"id\":\"ec73adc6-05e9-43ad-81ba-3c635a41fe42\",\"subtype\":\"Figure\",\"type\":\"Plot\"},{\"attributes\":{\"callback\":null,\"column_names\":[\"top\",\"right\",\"left\"],\"data\":{\"left\":[404.0,2477.44,4550.88,6624.32,8697.76,10771.2,12844.64,14918.08,16991.52,19064.96,21138.4,23211.84,25285.28,27358.72,29432.16,31505.600000000002,33579.04,35652.48,37725.92,39799.36,41872.8,43946.24,46019.68,48093.12,50166.56,52240.0,54313.44,56386.880000000005,58460.32,60533.76,62607.200000000004,64680.64,66754.08,68827.52,70900.96,72974.40000000001,75047.84,77121.28,79194.72,81268.16,83341.6,85415.04000000001,87488.48,89561.92,91635.36,93708.8,95782.24,97855.68000000001,99929.12,102002.56,104076.0,106149.44,108222.88,110296.32,112369.76000000001,114443.2,116516.64,118590.08,120663.52,122736.96,124810.40000000001,126883.84,128957.28,131030.72,133104.16,135177.6,137251.04,139324.48,141397.92,143471.36000000002,145544.80000000002,147618.24,149691.68,151765.12,153838.56,155912.0,157985.44,160058.88,162132.32,164205.76,166279.2,168352.64,170426.08000000002,172499.52000000002,174572.96,176646.4,178719.84,180793.28,182866.72,184940.16,187013.6,189087.04,191160.48,193233.92,195307.36000000002,197380.80000000002,199454.24,201527.68,203601.12,205674.56],\"right\":[2477.44,4550.88,6624.32,8697.76,10771.2,12844.64,14918.08,16991.52,19064.96,21138.4,23211.84,25285.28,27358.72,29432.16,31505.600000000002,33579.04,35652.48,37725.92,39799.36,41872.8,43946.24,46019.68,48093.12,50166.56,52240.0,54313.44,56386.880000000005,58460.32,60533.76,62607.200000000004,64680.64,66754.08,68827.52,70900.96,72974.40000000001,75047.84,77121.28,79194.72,81268.16,83341.6,85415.04000000001,87488.48,89561.92,91635.36,93708.8,95782.24,97855.68000000001,99929.12,102002.56,104076.0,106149.44,108222.88,110296.32,112369.76000000001,114443.2,116516.64,118590.08,120663.52,122736.96,124810.40000000001,126883.84,128957.28,131030.72,133104.16,135177.6,137251.04,139324.48,141397.92,143471.36000000002,145544.80000000002,147618.24,149691.68,151765.12,153838.56,155912.0,157985.44,160058.88,162132.32,164205.76,166279.2,168352.64,170426.08000000002,172499.52000000002,174572.96,176646.4,178719.84,180793.28,182866.72,184940.16,187013.6,189087.04,191160.48,193233.92,195307.36000000002,197380.80000000002,199454.24,201527.68,203601.12,205674.56,207748.0],\"top\":[0.0003892082722432286,3.327803071224632e-05,1.3504128404969522e-05,8.681225403194689e-06,8.198935103017207e-06,5.305193301952315e-06,4.340612701597344e-06,1.929161200709931e-06,2.893741801064899e-06,1.929161200709929e-06,9.645806003549663e-07,9.645806003549663e-07,1.929161200709929e-06,4.822903001774831e-07,9.645806003549646e-07,4.822903001774831e-07,0.0,4.82290300177484e-07,0.0,0.0,0.0,0.0,0.0,4.82290300177484e-07,0.0,0.0,0.0,4.82290300177484e-07,0.0,0.0,4.82290300177484e-07,0.0,4.822903001774823e-07,0.0,4.822903001774823e-07,4.822903001774857e-07,0.0,4.822903001774823e-07,0.0,4.822903001774823e-07,0.0,0.0,0.0,0.0,0.0,4.822903001774823e-07,0.0,0.0,0.0,0.0,4.822903001774823e-07,0.0,0.0,0.0,0.0,4.822903001774823e-07,0.0,0.0,0.0,0.0,4.822903001774857e-07,0.0,0.0,0.0,0.0,0.0,0.0,0.0,0.0,0.0,0.0,4.822903001774823e-07,0.0,0.0,0.0,0.0,0.0,0.0,0.0,0.0,0.0,0.0,0.0,0.0,0.0,0.0,0.0,0.0,0.0,0.0,0.0,0.0,0.0,0.0,0.0,0.0,0.0,0.0,0.0,4.822903001774823e-07]}},\"id\":\"bdf02ad0-5493-419b-b1dd-95d87fcefc8e\",\"type\":\"ColumnDataSource\"},{\"attributes\":{},\"id\":\"3000be6f-5c04-4be6-9eef-b3b66f8b4839\",\"type\":\"BasicTicker\"},{\"attributes\":{\"plot\":{\"id\":\"ec73adc6-05e9-43ad-81ba-3c635a41fe42\",\"subtype\":\"Figure\",\"type\":\"Plot\"}},\"id\":\"0aa57b82-7de8-4361-aa94-232261774bf9\",\"type\":\"WheelZoomTool\"}],\"root_ids\":[\"ec73adc6-05e9-43ad-81ba-3c635a41fe42\"]},\"title\":\"Bokeh Application\",\"version\":\"0.12.2\"}};\n",
       "            var render_items = [{\"docid\":\"d1886748-9a87-4370-98af-2de5ac5977b3\",\"elementid\":\"cea4b4ca-121e-4bed-995f-5f41ac9fd8a0\",\"modelid\":\"ec73adc6-05e9-43ad-81ba-3c635a41fe42\"}];\n",
       "            \n",
       "            Bokeh.embed.embed_items(docs_json, render_items);\n",
       "        });\n",
       "      },\n",
       "      function(Bokeh) {\n",
       "      }\n",
       "    ];\n",
       "  \n",
       "    function run_inline_js() {\n",
       "      \n",
       "      if ((window.Bokeh !== undefined) || (force === \"1\")) {\n",
       "        for (var i = 0; i < inline_js.length; i++) {\n",
       "          inline_js[i](window.Bokeh);\n",
       "        }if (force === \"1\") {\n",
       "          display_loaded();\n",
       "        }} else if (Date.now() < window._bokeh_timeout) {\n",
       "        setTimeout(run_inline_js, 100);\n",
       "      } else if (!window._bokeh_failed_load) {\n",
       "        console.log(\"Bokeh: BokehJS failed to load within specified timeout.\");\n",
       "        window._bokeh_failed_load = true;\n",
       "      } else if (!force) {\n",
       "        var cell = $(\"#cea4b4ca-121e-4bed-995f-5f41ac9fd8a0\").parents('.cell').data().cell;\n",
       "        cell.output_area.append_execute_result(NB_LOAD_WARNING)\n",
       "      }\n",
       "  \n",
       "    }\n",
       "  \n",
       "    if (window._bokeh_is_loading === 0) {\n",
       "      console.log(\"Bokeh: BokehJS loaded, going straight to plotting\");\n",
       "      run_inline_js();\n",
       "    } else {\n",
       "      load_libs(js_urls, function() {\n",
       "        console.log(\"Bokeh: BokehJS plotting callback run at\", now());\n",
       "        run_inline_js();\n",
       "      });\n",
       "    }\n",
       "  }(this));\n",
       "</script>"
      ]
     },
     "metadata": {},
     "output_type": "display_data"
    }
   ],
   "source": [
    "hist, edges = np.histogram(counts_ted_top1000, density=True, bins=100, normed=True)\n",
    "\n",
    "p = figure(tools=\"pan,wheel_zoom,reset,save\",\n",
    "           toolbar_location=\"above\",\n",
    "           title=\"Top-1000 words distribution\")\n",
    "p.quad(top=hist, bottom=0, left=edges[:-1], right=edges[1:], line_color=\"#555555\")\n",
    "show(p)"
   ]
  },
  {
   "cell_type": "markdown",
   "metadata": {},
   "source": [
    "### Part 3: Train Word2Vec"
   ]
  },
  {
   "cell_type": "code",
   "execution_count": 15,
   "metadata": {
    "collapsed": false
   },
   "outputs": [
    {
     "name": "stderr",
     "output_type": "stream",
     "text": [
      "D:\\Anaconda3\\lib\\site-packages\\gensim\\utils.py:860: UserWarning: detected Windows; aliasing chunkize to chunkize_serial\n",
      "  warnings.warn(\"detected Windows; aliasing chunkize to chunkize_serial\")\n"
     ]
    }
   ],
   "source": [
    "from gensim.models import Word2Vec"
   ]
  },
  {
   "cell_type": "code",
   "execution_count": 18,
   "metadata": {
    "collapsed": false
   },
   "outputs": [],
   "source": [
    "# ...\n",
    "model_ted = Word2Vec(sentences_ted)\n",
    "model_ted.save('model_ted')"
   ]
  },
  {
   "cell_type": "markdown",
   "metadata": {},
   "source": [
    "### Part 4: Ted Learnt Representations"
   ]
  },
  {
   "cell_type": "markdown",
   "metadata": {},
   "source": [
    "Finding similar words: (see gensim docs for more functionality of `most_similar`)"
   ]
  },
  {
   "cell_type": "code",
   "execution_count": 19,
   "metadata": {
    "collapsed": false
   },
   "outputs": [
    {
     "name": "stderr",
     "output_type": "stream",
     "text": [
      "D:\\Anaconda3\\lib\\site-packages\\ipykernel\\__main__.py:1: DeprecationWarning: Call to deprecated `most_similar` (Method will be removed in 4.0.0, use self.wv.most_similar() instead).\n",
      "  if __name__ == '__main__':\n"
     ]
    },
    {
     "data": {
      "text/plain": [
       "[('woman', 0.8433015942573547),\n",
       " ('guy', 0.8200044631958008),\n",
       " ('boy', 0.7501000165939331),\n",
       " ('lady', 0.7498274445533752),\n",
       " ('girl', 0.7329208850860596),\n",
       " ('gentleman', 0.7248262763023376),\n",
       " ('soldier', 0.7243669033050537),\n",
       " ('philosopher', 0.6983083486557007),\n",
       " ('poet', 0.6929291486740112),\n",
       " ('friend', 0.679207980632782)]"
      ]
     },
     "execution_count": 19,
     "metadata": {},
     "output_type": "execute_result"
    }
   ],
   "source": [
    "model_ted.most_similar(\"man\")"
   ]
  },
  {
   "cell_type": "code",
   "execution_count": 20,
   "metadata": {
    "collapsed": false
   },
   "outputs": [
    {
     "name": "stderr",
     "output_type": "stream",
     "text": [
      "D:\\Anaconda3\\lib\\site-packages\\ipykernel\\__main__.py:1: DeprecationWarning: Call to deprecated `most_similar` (Method will be removed in 4.0.0, use self.wv.most_similar() instead).\n",
      "  if __name__ == '__main__':\n"
     ]
    },
    {
     "data": {
      "text/plain": [
       "[('machine', 0.7302274703979492),\n",
       " ('software', 0.7051425576210022),\n",
       " ('device', 0.6958081126213074),\n",
       " ('robot', 0.6826791167259216),\n",
       " ('3d', 0.6649144887924194),\n",
       " ('printer', 0.6526170969009399),\n",
       " ('video', 0.6478057503700256),\n",
       " ('camera', 0.6429187059402466),\n",
       " ('smartphone', 0.6311108469963074),\n",
       " ('program', 0.6264874339103699)]"
      ]
     },
     "execution_count": 20,
     "metadata": {},
     "output_type": "execute_result"
    }
   ],
   "source": [
    "model_ted.most_similar(\"computer\")"
   ]
  },
  {
   "cell_type": "code",
   "execution_count": 22,
   "metadata": {
    "collapsed": false
   },
   "outputs": [
    {
     "name": "stderr",
     "output_type": "stream",
     "text": [
      "D:\\Anaconda3\\lib\\site-packages\\ipykernel\\__main__.py:1: DeprecationWarning: Call to deprecated `most_similar` (Method will be removed in 4.0.0, use self.wv.most_similar() instead).\n",
      "  if __name__ == '__main__':\n"
     ]
    },
    {
     "data": {
      "text/plain": [
       "[('pajamas', 0.7710584998130798),\n",
       " ('oncologist', 0.7590302228927612),\n",
       " ('grabbed', 0.7584583759307861),\n",
       " ('aunt', 0.756534218788147),\n",
       " ('uncle', 0.7534987926483154),\n",
       " ('sweetheart', 0.7503244280815125),\n",
       " ('throat', 0.7473748326301575),\n",
       " ('lover', 0.7432162165641785),\n",
       " ('cousin', 0.7377083897590637),\n",
       " ('buddies', 0.737294614315033)]"
      ]
     },
     "execution_count": 22,
     "metadata": {},
     "output_type": "execute_result"
    }
   ],
   "source": [
    "model_ted.most_similar(\"ass\")"
   ]
  },
  {
   "cell_type": "markdown",
   "metadata": {},
   "source": [
    "#### t-SNE visualization\n",
    "To use the t-SNE code below, first put a list of the top 1000 words (as strings) into a variable `words_top_ted`. The following code gets the corresponding vectors from the model, assuming it's called `model_ted`:"
   ]
  },
  {
   "cell_type": "code",
   "execution_count": 23,
   "metadata": {
    "collapsed": false
   },
   "outputs": [
    {
     "name": "stderr",
     "output_type": "stream",
     "text": [
      "D:\\Anaconda3\\lib\\site-packages\\ipykernel\\__main__.py:3: DeprecationWarning: Call to deprecated `__getitem__` (Method will be removed in 4.0.0, use self.wv.__getitem__() instead).\n",
      "  app.launch_new_instance()\n"
     ]
    }
   ],
   "source": [
    "# This assumes words_top_ted is a list of strings, the top 1000 words\n",
    "words_top_ted = [kv[0] for kv in counts_kv_top1000]\n",
    "words_top_vec_ted = model_ted[words_top_ted]"
   ]
  },
  {
   "cell_type": "code",
   "execution_count": 24,
   "metadata": {
    "collapsed": false
   },
   "outputs": [],
   "source": [
    "from sklearn.manifold import TSNE\n",
    "tsne = TSNE(n_components=2, random_state=0)\n",
    "words_top_ted_tsne = tsne.fit_transform(words_top_vec_ted)"
   ]
  },
  {
   "cell_type": "code",
   "execution_count": 25,
   "metadata": {
    "collapsed": false
   },
   "outputs": [
    {
     "data": {
      "text/html": [
       "\n",
       "\n",
       "    <div class=\"bk-root\">\n",
       "        <div class=\"plotdiv\" id=\"6aed7a56-30c0-4af6-8559-7f3d5a4009e6\"></div>\n",
       "    </div>\n",
       "<script type=\"text/javascript\">\n",
       "  \n",
       "  (function(global) {\n",
       "    function now() {\n",
       "      return new Date();\n",
       "    }\n",
       "  \n",
       "    var force = \"\";\n",
       "  \n",
       "    if (typeof (window._bokeh_onload_callbacks) === \"undefined\" || force !== \"\") {\n",
       "      window._bokeh_onload_callbacks = [];\n",
       "      window._bokeh_is_loading = undefined;\n",
       "    }\n",
       "  \n",
       "  \n",
       "    \n",
       "    if (typeof (window._bokeh_timeout) === \"undefined\" || force !== \"\") {\n",
       "      window._bokeh_timeout = Date.now() + 0;\n",
       "      window._bokeh_failed_load = false;\n",
       "    }\n",
       "  \n",
       "    var NB_LOAD_WARNING = {'data': {'text/html':\n",
       "       \"<div style='background-color: #fdd'>\\n\"+\n",
       "       \"<p>\\n\"+\n",
       "       \"BokehJS does not appear to have successfully loaded. If loading BokehJS from CDN, this \\n\"+\n",
       "       \"may be due to a slow or bad network connection. Possible fixes:\\n\"+\n",
       "       \"</p>\\n\"+\n",
       "       \"<ul>\\n\"+\n",
       "       \"<li>re-rerun `output_notebook()` to attempt to load from CDN again, or</li>\\n\"+\n",
       "       \"<li>use INLINE resources instead, as so:</li>\\n\"+\n",
       "       \"</ul>\\n\"+\n",
       "       \"<code>\\n\"+\n",
       "       \"from bokeh.resources import INLINE\\n\"+\n",
       "       \"output_notebook(resources=INLINE)\\n\"+\n",
       "       \"</code>\\n\"+\n",
       "       \"</div>\"}};\n",
       "  \n",
       "    function display_loaded() {\n",
       "      if (window.Bokeh !== undefined) {\n",
       "        Bokeh.$(\"#6aed7a56-30c0-4af6-8559-7f3d5a4009e6\").text(\"BokehJS successfully loaded.\");\n",
       "      } else if (Date.now() < window._bokeh_timeout) {\n",
       "        setTimeout(display_loaded, 100)\n",
       "      }\n",
       "    }\n",
       "  \n",
       "    function run_callbacks() {\n",
       "      window._bokeh_onload_callbacks.forEach(function(callback) { callback() });\n",
       "      delete window._bokeh_onload_callbacks\n",
       "      console.info(\"Bokeh: all callbacks have finished\");\n",
       "    }\n",
       "  \n",
       "    function load_libs(js_urls, callback) {\n",
       "      window._bokeh_onload_callbacks.push(callback);\n",
       "      if (window._bokeh_is_loading > 0) {\n",
       "        console.log(\"Bokeh: BokehJS is being loaded, scheduling callback at\", now());\n",
       "        return null;\n",
       "      }\n",
       "      if (js_urls == null || js_urls.length === 0) {\n",
       "        run_callbacks();\n",
       "        return null;\n",
       "      }\n",
       "      console.log(\"Bokeh: BokehJS not loaded, scheduling load and callback at\", now());\n",
       "      window._bokeh_is_loading = js_urls.length;\n",
       "      for (var i = 0; i < js_urls.length; i++) {\n",
       "        var url = js_urls[i];\n",
       "        var s = document.createElement('script');\n",
       "        s.src = url;\n",
       "        s.async = false;\n",
       "        s.onreadystatechange = s.onload = function() {\n",
       "          window._bokeh_is_loading--;\n",
       "          if (window._bokeh_is_loading === 0) {\n",
       "            console.log(\"Bokeh: all BokehJS libraries loaded\");\n",
       "            run_callbacks()\n",
       "          }\n",
       "        };\n",
       "        s.onerror = function() {\n",
       "          console.warn(\"failed to load library \" + url);\n",
       "        };\n",
       "        console.log(\"Bokeh: injecting script tag for BokehJS library: \", url);\n",
       "        document.getElementsByTagName(\"head\")[0].appendChild(s);\n",
       "      }\n",
       "    };var element = document.getElementById(\"6aed7a56-30c0-4af6-8559-7f3d5a4009e6\");\n",
       "    if (element == null) {\n",
       "      console.log(\"Bokeh: ERROR: autoload.js configured with elementid '6aed7a56-30c0-4af6-8559-7f3d5a4009e6' but no matching script tag was found. \")\n",
       "      return false;\n",
       "    }\n",
       "  \n",
       "    var js_urls = [];\n",
       "  \n",
       "    var inline_js = [\n",
       "      function(Bokeh) {\n",
       "        Bokeh.$(function() {\n",
       "            var docs_json = {\"7bccb324-f3dd-4713-8055-ac31ef5eb539\":{\"roots\":{\"references\":[{\"attributes\":{\"plot\":{\"id\":\"fc79be51-202e-4706-972a-ad15f56b3ef5\",\"subtype\":\"Figure\",\"type\":\"Plot\"}},\"id\":\"a578fc4d-76bd-4cb6-8008-a73cbe001f79\",\"type\":\"PanTool\"},{\"attributes\":{\"fill_color\":{\"value\":\"#1f77b4\"},\"line_color\":{\"value\":\"#1f77b4\"},\"size\":{\"units\":\"screen\",\"value\":8},\"x\":{\"field\":\"x1\"},\"y\":{\"field\":\"x2\"}},\"id\":\"3ef2d07b-96c0-42c4-9204-98cd734a601b\",\"type\":\"Circle\"},{\"attributes\":{},\"id\":\"68e55b20-8035-4fee-86f7-0a1fbdb12c12\",\"type\":\"BasicTicker\"},{\"attributes\":{\"plot\":{\"id\":\"fc79be51-202e-4706-972a-ad15f56b3ef5\",\"subtype\":\"Figure\",\"type\":\"Plot\"}},\"id\":\"ec828507-a6cb-4e09-8427-3d4941d604e4\",\"type\":\"ResetTool\"},{\"attributes\":{\"callback\":null},\"id\":\"63447160-7c8e-4b83-af72-4429e26200a0\",\"type\":\"DataRange1d\"},{\"attributes\":{\"formatter\":{\"id\":\"57ccc035-30cf-46d0-b841-2a0cbae756f2\",\"type\":\"BasicTickFormatter\"},\"plot\":{\"id\":\"fc79be51-202e-4706-972a-ad15f56b3ef5\",\"subtype\":\"Figure\",\"type\":\"Plot\"},\"ticker\":{\"id\":\"43475793-c5e3-4712-b715-33b51016e813\",\"type\":\"BasicTicker\"}},\"id\":\"f0dcec1c-d87c-4706-9979-e525025bc031\",\"type\":\"LinearAxis\"},{\"attributes\":{\"below\":[{\"id\":\"f0dcec1c-d87c-4706-9979-e525025bc031\",\"type\":\"LinearAxis\"}],\"left\":[{\"id\":\"a4210c2d-58b4-4a4f-9b37-af3aa80f78ab\",\"type\":\"LinearAxis\"}],\"renderers\":[{\"id\":\"f0dcec1c-d87c-4706-9979-e525025bc031\",\"type\":\"LinearAxis\"},{\"id\":\"cf9c85cb-c6e0-4099-b5c2-1b2b81aa2fb1\",\"type\":\"Grid\"},{\"id\":\"a4210c2d-58b4-4a4f-9b37-af3aa80f78ab\",\"type\":\"LinearAxis\"},{\"id\":\"004dcde2-21a1-44fe-a337-7728324fa711\",\"type\":\"Grid\"},{\"id\":\"b5fb165e-8278-49c0-88fc-4124bec1fac0\",\"type\":\"GlyphRenderer\"},{\"id\":\"eada973a-7f07-4a68-b934-32541e8fac99\",\"type\":\"LabelSet\"}],\"title\":{\"id\":\"1d1a4945-2195-4cf0-b570-b899869dfe67\",\"type\":\"Title\"},\"tool_events\":{\"id\":\"2ccea3f1-c42e-48ce-8f46-707cd4ee2984\",\"type\":\"ToolEvents\"},\"toolbar\":{\"id\":\"f52fb426-368a-46e5-a56a-416e846d2463\",\"type\":\"Toolbar\"},\"toolbar_location\":\"above\",\"x_range\":{\"id\":\"b83bf7b0-1d50-442c-999c-54061b9bc88f\",\"type\":\"DataRange1d\"},\"y_range\":{\"id\":\"63447160-7c8e-4b83-af72-4429e26200a0\",\"type\":\"DataRange1d\"}},\"id\":\"fc79be51-202e-4706-972a-ad15f56b3ef5\",\"subtype\":\"Figure\",\"type\":\"Plot\"},{\"attributes\":{\"active_drag\":\"auto\",\"active_scroll\":\"auto\",\"active_tap\":\"auto\",\"tools\":[{\"id\":\"a578fc4d-76bd-4cb6-8008-a73cbe001f79\",\"type\":\"PanTool\"},{\"id\":\"84705246-c91a-48b7-ad32-c1f21d59ceee\",\"type\":\"WheelZoomTool\"},{\"id\":\"ec828507-a6cb-4e09-8427-3d4941d604e4\",\"type\":\"ResetTool\"},{\"id\":\"cb0989d5-fb4d-4a3d-a00e-af0d08a0251c\",\"type\":\"SaveTool\"}]},\"id\":\"f52fb426-368a-46e5-a56a-416e846d2463\",\"type\":\"Toolbar\"},{\"attributes\":{\"plot\":{\"id\":\"fc79be51-202e-4706-972a-ad15f56b3ef5\",\"subtype\":\"Figure\",\"type\":\"Plot\"},\"source\":{\"id\":\"29a7a56b-001d-4b71-99c1-29dfdef28a0a\",\"type\":\"ColumnDataSource\"},\"text\":{\"field\":\"names\"},\"text_align\":\"center\",\"text_color\":{\"value\":\"#555555\"},\"text_font_size\":{\"value\":\"8pt\"},\"x\":{\"field\":\"x1\"},\"y\":{\"field\":\"x2\"},\"y_offset\":{\"value\":6}},\"id\":\"eada973a-7f07-4a68-b934-32541e8fac99\",\"type\":\"LabelSet\"},{\"attributes\":{},\"id\":\"43475793-c5e3-4712-b715-33b51016e813\",\"type\":\"BasicTicker\"},{\"attributes\":{\"callback\":null},\"id\":\"b83bf7b0-1d50-442c-999c-54061b9bc88f\",\"type\":\"DataRange1d\"},{\"attributes\":{},\"id\":\"57ccc035-30cf-46d0-b841-2a0cbae756f2\",\"type\":\"BasicTickFormatter\"},{\"attributes\":{\"plot\":{\"id\":\"fc79be51-202e-4706-972a-ad15f56b3ef5\",\"subtype\":\"Figure\",\"type\":\"Plot\"}},\"id\":\"cb0989d5-fb4d-4a3d-a00e-af0d08a0251c\",\"type\":\"SaveTool\"},{\"attributes\":{},\"id\":\"7d38c4d7-9042-4c70-84d4-cb6aa143c45d\",\"type\":\"BasicTickFormatter\"},{\"attributes\":{\"callback\":null,\"column_names\":[\"x2\",\"x1\",\"names\"],\"data\":{\"names\":[\"the\",\"and\",\"to\",\"of\",\"a\",\"that\",\"i\",\"in\",\"it\",\"you\",\"we\",\"is\",\"s\",\"this\",\"so\",\"they\",\"was\",\"for\",\"are\",\"have\",\"but\",\"what\",\"on\",\"with\",\"can\",\"t\",\"about\",\"there\",\"be\",\"as\",\"at\",\"all\",\"not\",\"do\",\"my\",\"one\",\"re\",\"people\",\"like\",\"if\",\"from\",\"now\",\"our\",\"he\",\"an\",\"just\",\"these\",\"or\",\"when\",\"because\",\"very\",\"me\",\"out\",\"by\",\"them\",\"how\",\"know\",\"up\",\"going\",\"had\",\"more\",\"think\",\"who\",\"were\",\"see\",\"your\",\"their\",\"which\",\"would\",\"here\",\"really\",\"get\",\"ve\",\"then\",\"m\",\"world\",\"us\",\"time\",\"some\",\"has\",\"don\",\"actually\",\"into\",\"way\",\"where\",\"will\",\"years\",\"things\",\"other\",\"no\",\"could\",\"go\",\"well\",\"want\",\"been\",\"make\",\"right\",\"she\",\"said\",\"something\",\"those\",\"first\",\"two\",\"than\",\"much\",\"also\",\"look\",\"new\",\"thing\",\"little\",\"got\",\"back\",\"over\",\"most\",\"say\",\"even\",\"his\",\"life\",\"only\",\"work\",\"many\",\"take\",\"need\",\"did\",\"lot\",\"kind\",\"why\",\"good\",\"around\",\"every\",\"different\",\"down\",\"ll\",\"let\",\"her\",\"through\",\"same\",\"being\",\"come\",\"d\",\"day\",\"year\",\"three\",\"use\",\"doing\",\"put\",\"called\",\"any\",\"today\",\"percent\",\"made\",\"after\",\"thank\",\"tell\",\"great\",\"human\",\"find\",\"didn\",\"fact\",\"talk\",\"change\",\"started\",\"another\",\"idea\",\"big\",\"last\",\"own\",\"before\",\"its\",\"never\",\"should\",\"better\",\"give\",\"thought\",\"went\",\"might\",\"important\",\"000\",\"again\",\"together\",\"able\",\"still\",\"problem\",\"off\",\"next\",\"part\",\"course\",\"system\",\"him\",\"does\",\"each\",\"start\",\"show\",\"long\",\"ago\",\"story\",\"came\",\"brain\",\"few\",\"bit\",\"between\",\"used\",\"place\",\"technology\",\"women\",\"too\",\"old\",\"mean\",\"data\",\"water\",\"looking\",\"question\",\"maybe\",\"found\",\"love\",\"doesn\",\"end\",\"example\",\"10\",\"done\",\"point\",\"four\",\"real\",\"wanted\",\"ever\",\"school\",\"understand\",\"sort\",\"live\",\"call\",\"whole\",\"always\",\"children\",\"trying\",\"may\",\"person\",\"away\",\"believe\",\"feel\",\"try\",\"million\",\"working\",\"help\",\"everything\",\"five\",\"country\",\"thinking\",\"second\",\"using\",\"information\",\"money\",\"means\",\"power\",\"took\",\"times\",\"high\",\"space\",\"number\",\"kids\",\"home\",\"become\",\"create\",\"small\",\"design\",\"making\",\"best\",\"left\",\"getting\",\"future\",\"enough\",\"man\",\"quite\",\"city\",\"without\",\"sense\",\"happened\",\"comes\",\"social\",\"probably\",\"less\",\"light\",\"energy\",\"talking\",\"am\",\"building\",\"science\",\"food\",\"body\",\"told\",\"interesting\",\"half\",\"ask\",\"pretty\",\"play\",\"hard\",\"anything\",\"lives\",\"countries\",\"coming\",\"such\",\"family\",\"stuff\",\"dollars\",\"earth\",\"moment\",\"20\",\"imagine\",\"across\",\"side\",\"saw\",\"while\",\"happen\",\"okay\",\"once\",\"build\",\"having\",\"men\",\"later\",\"experience\",\"asked\",\"makes\",\"living\",\"seen\",\"says\",\"room\",\"hand\",\"simple\",\"health\",\"ways\",\"else\",\"case\",\"yet\",\"almost\",\"young\",\"days\",\"nothing\",\"bad\",\"care\",\"happens\",\"goes\",\"move\",\"states\",\"reason\",\"computer\",\"open\",\"africa\",\"learn\",\"process\",\"inside\",\"someone\",\"six\",\"far\",\"project\",\"mind\",\"remember\",\"single\",\"picture\",\"both\",\"whether\",\"problems\",\"basically\",\"saying\",\"community\",\"already\",\"within\",\"looked\",\"myself\",\"billion\",\"possible\",\"often\",\"business\",\"planet\",\"global\",\"top\",\"everybody\",\"public\",\"sure\",\"set\",\"wrong\",\"car\",\"book\",\"keep\",\"answer\",\"yes\",\"oh\",\"hope\",\"sometimes\",\"history\",\"true\",\"war\",\"child\",\"guy\",\"instead\",\"months\",\"ideas\",\"looks\",\"matter\",\"government\",\"amazing\",\"united\",\"since\",\"bring\",\"cells\",\"age\",\"job\",\"heard\",\"until\",\"face\",\"wasn\",\"100\",\"read\",\"control\",\"isn\",\"research\",\"30\",\"words\",\"u\",\"group\",\"under\",\"self\",\"somebody\",\"built\",\"state\",\"woman\",\"turn\",\"beautiful\",\"friends\",\"line\",\"knew\",\"couple\",\"order\",\"form\",\"yeah\",\"internet\",\"middle\",\"music\",\"piece\",\"nature\",\"head\",\"though\",\"stop\",\"everyone\",\"50\",\"places\",\"video\",\"learned\",\"language\",\"run\",\"night\",\"decided\",\"study\",\"word\",\"cancer\",\"taking\",\"works\",\"became\",\"exactly\",\"species\",\"society\",\"completely\",\"education\",\"against\",\"stories\",\"large\",\"share\",\"level\",\"heart\",\"america\",\"model\",\"gets\",\"questions\",\"mother\",\"god\",\"company\",\"turns\",\"ourselves\",\"happening\",\"art\",\"hear\",\"themselves\",\"must\",\"itself\",\"kinds\",\"rather\",\"students\",\"name\",\"hours\",\"disease\",\"front\",\"house\",\"couldn\",\"huge\",\"created\",\"universe\",\"ok\",\"animals\",\"american\",\"environment\",\"worked\",\"minutes\",\"ones\",\"black\",\"1\",\"perhaps\",\"past\",\"third\",\"along\",\"finally\",\"others\",\"sound\",\"early\",\"game\",\"thousands\",\"century\",\"based\",\"least\",\"per\",\"ted\",\"lots\",\"figure\",\"free\",\"particular\",\"guys\",\"happy\",\"news\",\"learning\",\"entire\",\"won\",\"gave\",\"india\",\"machine\",\"during\",\"systems\",\"air\",\"difference\",\"outside\",\"taken\",\"natural\",\"seven\",\"changed\",\"given\",\"leave\",\"cell\",\"15\",\"close\",\"behind\",\"cities\",\"full\",\"scale\",\"difficult\",\"china\",\"takes\",\"companies\",\"area\",\"yourself\",\"reality\",\"seeing\",\"easy\",\"turned\",\"cost\",\"eyes\",\"moving\",\"team\",\"population\",\"culture\",\"york\",\"hands\",\"whatever\",\"began\",\"terms\",\"needs\",\"image\",\"needed\",\"simply\",\"beginning\",\"father\",\"local\",\"realized\",\"media\",\"parents\",\"death\",\"walk\",\"view\",\"white\",\"market\",\"parts\",\"ocean\",\"eight\",\"economic\",\"powerful\",\"week\",\"known\",\"size\",\"felt\",\"humans\",\"certain\",\"spend\",\"longer\",\"phone\",\"wonderful\",\"cannot\",\"common\",\"grow\",\"center\",\"tried\",\"fish\",\"land\",\"oil\",\"deal\",\"political\",\"interested\",\"red\",\"gone\",\"amount\",\"weeks\",\"spent\",\"opportunity\",\"lost\",\"paper\",\"national\",\"quickly\",\"blue\",\"step\",\"poor\",\"green\",\"buy\",\"growth\",\"wouldn\",\"either\",\"patients\",\"sitting\",\"ability\",\"changes\",\"write\",\"south\",\"challenge\",\"low\",\"friend\",\"growing\",\"field\",\"2\",\"shows\",\"born\",\"rest\",\"climate\",\"40\",\"test\",\"street\",\"surface\",\"incredible\",\"average\",\"morning\",\"program\",\"value\",\"scientists\",\"physical\",\"pay\",\"met\",\"hundreds\",\"girl\",\"feeling\",\"behavior\",\"economy\",\"dna\",\"complex\",\"access\",\"risk\",\"animal\",\"structure\",\"feet\",\"attention\",\"anyone\",\"areas\",\"deep\",\"watch\",\"short\",\"absolutely\",\"speak\",\"brought\",\"die\",\"bottom\",\"audience\",\"numbers\",\"stage\",\"realize\",\"images\",\"law\",\"wrote\",\"understanding\",\"literally\",\"knowledge\",\"books\",\"movement\",\"giving\",\"ground\",\"eat\",\"force\",\"alone\",\"seems\",\"telling\",\"starting\",\"hold\",\"nice\",\"forward\",\"sea\",\"developed\",\"kid\",\"individual\",\"millions\",\"support\",\"tools\",\"running\",\"miles\",\"online\",\"result\",\"technologies\",\"medical\",\"act\",\"north\",\"lab\",\"development\",\"blood\",\"fear\",\"map\",\"nobody\",\"personal\",\"voice\",\"issue\",\"material\",\"key\",\"12\",\"recently\",\"theory\",\"cut\",\"cars\",\"fast\",\"sun\",\"changing\",\"playing\",\"clear\",\"especially\",\"patient\",\"girls\",\"soon\",\"fly\",\"choice\",\"creating\",\"discovered\",\"normal\",\"europe\",\"relationship\",\"talked\",\"gives\",\"generation\",\"dark\",\"type\",\"showed\",\"chance\",\"seem\",\"asking\",\"industry\",\"rate\",\"hour\",\"color\",\"designed\",\"fun\",\"issues\",\"innovation\",\"computers\",\"university\",\"several\",\"class\",\"english\",\"tiny\",\"save\",\"allow\",\"focus\",\"digital\",\"solve\",\"developing\",\"network\",\"film\",\"special\",\"wall\",\"situation\",\"baby\",\"solution\",\"reasons\",\"box\",\"knows\",\"meet\",\"stand\",\"dead\",\"impact\",\"anybody\",\"haven\",\"begin\",\"term\",\"beyond\",\"pictures\",\"please\",\"produce\",\"ice\",\"shape\",\"non\",\"robot\",\"cool\",\"resources\",\"likely\",\"stay\",\"groups\",\"rights\",\"major\",\"available\",\"truth\",\"cause\",\"experiment\",\"evidence\",\"obviously\",\"writing\",\"modern\",\"drug\",\"becomes\",\"incredibly\",\"bigger\",\"guess\",\"aren\",\"product\",\"drugs\",\"nine\",\"lived\",\"involved\",\"perfect\",\"google\",\"month\",\"putting\",\"effect\",\"similar\",\"eye\",\"pick\",\"message\",\"violence\",\"quality\",\"web\",\"office\",\"security\",\"evolution\",\"basic\",\"solar\",\"indeed\",\"general\",\"towards\",\"present\",\"drive\",\"send\",\"worth\",\"listen\",\"revolution\",\"hundred\",\"explain\",\"died\",\"certainly\",\"teach\",\"ready\",\"25\",\"journey\",\"hit\",\"walking\",\"led\",\"international\",\"approach\",\"200\",\"games\",\"scientific\",\"potential\",\"60\",\"chinese\",\"communities\",\"crazy\",\"device\",\"source\",\"camera\",\"sex\",\"rules\",\"carbon\",\"sounds\",\"boy\",\"reach\",\"starts\",\"examples\",\"west\",\"3\",\"measure\",\"particularly\",\"software\",\"success\",\"totally\",\"suddenly\",\"action\",\"higher\",\"college\",\"code\",\"eventually\",\"democracy\",\"minute\",\"among\",\"sit\",\"largest\",\"hospital\",\"showing\",\"notice\",\"period\",\"develop\",\"mass\",\"dream\",\"onto\",\"memory\",\"break\",\"add\",\"plants\",\"everywhere\",\"11\",\"favorite\",\"zero\",\"moved\",\"speed\",\"schools\",\"response\",\"wants\",\"movie\",\"individuals\",\"wait\",\"extremely\",\"table\",\"anyway\",\"trust\",\"medicine\",\"follow\",\"plant\",\"biggest\",\"watching\",\"organization\",\"road\",\"creative\",\"choose\",\"worse\",\"lead\",\"results\",\"500\",\"exciting\",\"materials\",\"grew\",\"jobs\",\"poverty\",\"east\",\"positive\",\"plan\",\"strong\",\"fall\",\"safe\",\"essentially\",\"door\",\"object\",\"happiness\",\"vision\",\"further\",\"continue\",\"son\",\"student\",\"doctor\",\"role\",\"named\",\"including\",\"objects\",\"extraordinary\",\"standing\",\"leaders\",\"skin\",\"african\",\"usually\",\"conversation\",\"projects\",\"allowed\",\"models\",\"supposed\",\"interest\",\"faster\",\"families\",\"fight\",\"police\",\"connected\",\"tree\",\"5\",\"screen\",\"cases\",\"somewhere\",\"goal\",\"finding\",\"shown\",\"buildings\"],\"x1\":[-12.018644884207037,-5.274670561749363,-5.768915254670902,-21.121721073595427,-6.985225722444798,-3.7000050754018003,0.5357106293022187,-2.1958338588903357,-4.115994405270141,-4.6343150364636445,-7.17042590796002,-0.4241023274621042,0.011713490050255279,-3.5502859900487147,-4.396138971343855,-4.345452924261876,-2.8190758858238727,-10.676458094027451,9.42603925069492,6.2775797749903415,-4.202088848725761,16.59859459701349,6.604014867442483,2.6837611800571706,-15.128803994523269,-11.943026249539875,-16.39238158272431,-9.795228472943382,6.43314642748924,-17.23297308280283,-7.283871231525203,-16.034316159447666,-13.235254169047348,7.774342367435457,17.678430403743757,-19.002896343797175,9.42010668395578,-7.212459058184628,-14.974369816558811,-9.929513478969879,-7.35755302476762,-3.1992213211146128,-20.99277583131729,17.844101312495756,-7.471946241393644,-11.33334030205982,-6.496975027166573,-11.803722339474986,-3.1940811165396457,-4.2054905000139495,-12.90400100028807,1.2562738178843544,5.683944219398717,-6.326464375833535,-9.128116285756372,-3.38243659322581,8.402330710849007,5.117571002726233,-0.9076627135623194,-17.13417970966007,-1.9837270862643988,7.63518836226601,0.45742571770507,9.434129936695763,10.046371980128402,-4.109690748533772,-8.358798216043128,-3.4392444294095252,-14.367552256376879,-3.1063692223450605,-12.711552545050708,11.983890192261216,3.95906409154447,-4.69584812493577,2.1358175903334407,-23.888033810600124,-9.447620520752894,-1.6531204968315896,6.151173158766018,-6.4111007596173035,-9.350708134471827,-9.654212700042118,5.549677218505761,-11.396218431571725,-4.592029488986875,-15.557395352036053,3.5495983621209866,-10.07580691957604,-10.242724156739692,16.062802445458004,-14.642592530180176,12.313107690881896,-7.851755889160968,4.613874414169743,-15.586074673090636,-18.110956996101155,-7.087101659556929,17.78368262723504,-4.731530770142163,17.557946772425712,-6.496876601200202,-17.99887957518448,12.711499347788799,-13.385534789561344,15.168895349561303,-9.697001324121684,-3.0381300688364434,-17.065356440757974,-13.330850778935519,9.47669219679125,3.853022387988596,4.819376954228728,2.9116680619541575,-15.188748857787141,7.069329393495026,-11.041844480983006,17.696244169188088,-12.968773923201624,-12.697082086414445,-9.61896259333514,7.994350711855728,12.557196972985315,4.604426189109755,2.052553596479067,6.570174672005239,-4.236968784775266,-2.5168626266753438,-20.375566923457104,3.3887811881462175,-5.690067782008006,-17.81711301009852,5.170324561608033,-15.496415076329505,-5.860136819257668,17.666836017844457,5.341792977125976,-14.749922500826585,-17.59878535191111,12.753248067550102,-13.96408102287037,4.2294810279651935,4.088742410008321,12.6250740436418,4.4954832853503,-5.043238249544954,10.95106112409491,-11.463316871826263,17.522795824020395,-3.449142949386919,6.718296656734876,-17.19806962731244,4.111865354838559,3.5592254552872293,10.226976384060336,-16.5079739828615,-17.508944305546688,11.697854263991937,-9.151642834408019,-15.586773817387618,10.341336619356346,3.5976810802789876,2.54690805292442,-7.233402937737662,-14.499406075669768,-15.586391118342544,0.9331289830557162,-19.032041150027045,-2.509335173380645,-11.713924049179067,-9.860047697289199,-15.88033486677863,-1.625804042599953,11.957742042421524,-19.688507361640312,-14.833773683229335,-15.893071956136971,-18.76775170853579,7.47642833873648,-5.072820196992093,4.085205114294651,-0.10164448282676755,-12.32121212860896,-15.192222660735128,5.374480825943453,0.8674634498496528,-16.43978776544984,-13.707940908787457,-10.626691106009831,1.2301787193270595,1.6338625985618274,-5.63051024608539,7.374670736644404,10.502125762175961,-7.01770369833324,4.699309862209787,-12.72811209969616,-14.833190960012452,12.913001665122817,12.570151618577244,-5.231300126428537,-8.359172483023636,-13.864293128986787,-14.692632920106698,-18.6109997070797,-5.919742994344044,-13.794694262053515,5.2573233204705945,6.656923331082101,-5.90712961158835,14.585108423134201,-2.992569945800014,-13.680152112034623,-10.457398563927766,-18.26415650176004,-6.1292066015077955,-9.33571875890141,12.981086843263888,-6.446435581407238,10.31938515320503,-17.15060907677142,-1.4142951119918925,12.363210125789465,-15.334361783727541,3.2268713636069135,-9.863567925055435,1.7320182931724568,7.7652937540960085,-4.2357013448246,10.802681507688842,4.5296784944906126,-9.337793988593525,-13.460820559031879,-6.874821248556228,-0.25730327104580053,-16.002079134256732,-1.9390070824070538,5.436684578216091,7.7578969651743135,9.243989679206148,6.840509388062037,7.587767096695896,-5.550630951835362,4.145469032575595,18.10505645714443,11.777925250979756,-24.203134448353783,6.47665279323823,-19.227384112189597,-12.88648199410898,-5.917498244488693,-11.763061906622024,-13.259701892627552,-18.08635402247741,-15.028017415102337,2.946806075967983,18.342177185845195,-10.254125299110301,3.7612731668998083,-6.8630805075469175,2.372170031774635,5.7795169418620285,5.013277814744848,9.048182563824724,-9.205376058842191,-17.448643280675554,-20.713875513398172,11.13095558831404,-0.8405288583976857,-18.729645173495822,-14.53059064069145,-0.6992293689582225,-12.801462359902203,-23.6580711234411,-10.1030319538324,-15.474495080968833,-18.020445539278885,0.7433621407730902,-20.96816821645533,-11.356973806846304,-1.9599245413433963,13.754799861753817,15.594384527565847,6.443117872095729,2.1340107969197564,-17.07076731920764,-19.72337641272519,-12.720116987144358,12.558793831302902,-3.1640901715267002,-18.77133522954556,11.458431269102952,8.936241705932899,-13.299875415027065,8.889879823600408,16.501352369503696,17.946940629033612,-10.841158222154576,-10.49845767694952,0.26940680136835626,-17.631303259746254,-1.374842187287984,-8.75721743692676,8.169853178374225,15.922069860561582,-1.623729121171157,10.10683353661115,9.493852392068987,3.3525067950686975,11.419238699122882,-15.594966221608704,-3.5808177763645306,6.577325714882106,-6.9980768928470445,-4.170834019471604,5.039546738236755,-1.9277346716379156,-5.942423615866784,4.7407871274326325,-13.510096558470181,-3.157985485744718,-1.005390959460425,-15.362862542074293,-17.378495740677366,-4.751836642286129,8.225324074376104,11.313892292922455,-19.022343015271204,-22.837230679447906,-11.206820013526961,19.955529100949025,-15.472909375406191,-13.048874156042917,-11.6647568091029,-4.970183202388505,2.127617999846998,18.02263702510109,-20.367615136411153,-21.811435250671803,-1.029030951366645,1.561032434677334,11.521085169155418,-25.970573713993378,-15.692729748874331,-7.5336645434682685,-7.424991238672751,-25.15482589637569,7.9932292016278055,-9.839660006132524,7.7695135808728875,20.79515971324497,11.748700715140172,14.955166801962202,-10.718947105164567,-12.228713960044946,8.858956534063,-16.418489945930617,-6.019351108065796,-16.08825120751585,-12.751252237144067,-13.411661782664758,-10.816203741054975,-4.651567298048831,-18.15469013257616,-12.224904548867535,-8.405453991492125,-3.271056731323283,1.0794703426740861,7.630286912527177,-14.553260585474993,-12.910520609304266,-18.642109545208218,16.002867777808323,-20.894644438101707,12.169064688801006,19.81105456741546,-22.62634677831163,-12.319455743192128,5.449927910137992,-10.256366845011284,8.211212946410106,-5.205433307130439,8.346618941153725,-13.738169617400315,-7.308572597115201,-6.880554914613692,-13.377286541974238,-12.029129793605467,-16.94578020969291,-14.614547639927922,-24.40432888932366,-1.8458359496783237,-0.3842941389231468,-10.941687435733675,3.173848245280266,-10.90449105490342,-10.974375838464287,-14.042796198818644,-23.76207095765353,-18.376919370635584,-24.46347673019097,-1.7045441447671121,11.666751474709743,13.940106912577459,0.6766980028038309,-12.403484342400434,-17.921816350391886,-2.3738105947581407,11.062013807106096,-7.383637858710401,9.593296682729084,9.86944302361012,2.994517291919599,-7.410946342269186,-9.836334277893549,10.15678370172118,-7.504821540673498,-24.856442001311066,-11.594818396792848,-1.817554502338351,-16.974108410008014,20.73721848689991,-15.659630792222377,-23.075280940924753,-1.0745275532552627,11.350273935337263,-16.67457129108556,-1.3572430875069672,11.046848090421285,-19.559454759293708,12.565932836779462,-15.890297795638261,-9.824574183941955,-7.005345012679748,-10.49359643842174,-25.432790559233744,-6.062984638022643,-5.871384227166543,-17.065210102539478,9.723705306170364,-11.885935412333046,7.904879491203196,19.8309842594301,9.827378420506216,-11.099624619158988,-6.6765532485523815,-18.110329117768867,-17.401577907436145,10.855069184895019,4.150481263345158,2.882005401292785,-9.606244577659425,-4.8623678113160915,6.383218067622414,-1.1158607221105123,-6.430861469646753,-2.70531954563948,-10.600648364290729,-12.494896913174465,-18.084771443787968,-13.09046342755942,-22.65963822891301,-22.156920276944078,-8.565408991248162,8.991393092515102,9.968932988941631,0.43151478412318495,11.727412471629394,-25.05213803574808,-9.483355264092236,1.488929837700465,-9.887798072487636,-1.7814830241062174,-3.1486035435090916,-11.12309437801922,2.088990134136303,-9.347311590258698,-4.450290152912202,-19.783322192394696,9.621064242198825,-9.175230568241577,-16.112779200276965,-11.895904651447566,-11.040917682620613,-2.3327713224630306,-6.853387166494278,-3.3021060123316213,2.4330854817589285,6.3800854304429935,7.65309151336977,8.47690352716398,-8.855001914228513,-14.822973868694966,-15.91966550533815,-11.488077370069151,-6.809716808008604,-11.91826294361478,-24.269074432785672,-11.148642751294792,-15.58969003146707,2.399852761852512,-8.45339011319627,11.940859804297666,9.191178429527755,-10.920542384829329,-22.363896388866344,-19.239357371161788,5.369795518165241,-4.575318098028596,-9.161929116019135,-9.299919430122054,-0.40455594198195594,-6.985983520948729,7.445321358259076,-20.01919675354624,-7.238916386068345,1.3015541060960893,9.528006136551042,-5.280424155041565,6.470014564490972,11.853097331912714,-12.026344077022308,-16.817802569458912,-7.810326776031795,-13.073956972484432,-15.39016536733479,-18.493945675705216,-8.58098311024627,-8.738930119486197,-15.099834955365669,-24.955186065367105,-7.50718434704787,3.9540577191581936,-12.40718607701786,14.12246724062349,-15.953273824960313,7.848166780351719,-14.706651446678139,-20.103899062655337,11.236304753748374,-17.051870866896948,-13.948638227207303,9.946532026591335,13.880053612984131,10.577392960903543,14.204883563450176,6.607314815778322,-10.765587638456523,-8.165313708753507,0.15672606120517452,16.49064998904564,-24.97249872627286,-0.7934032375285005,-9.507983859701053,-7.58056991603924,-4.016795393892236,-11.301014585550721,-4.13272792811349,16.49203981330221,2.023498608042609,-0.18240340644518338,10.282685369412983,0.16961955340899743,-11.407488382561283,-19.96868564758957,-17.53530461373978,4.695430901914922,10.21423874074039,-12.14122036698833,2.5112441037324005,-18.104535626235467,2.6089439869921285,-6.791394444553573,2.658188169553756,-12.411477250205564,-2.000729014777803,-1.6954388563333356,-23.199053527524576,-19.218320452593186,-20.43457545308409,-1.3714582409337552,-18.632958174389497,10.212403613761678,-12.375404790463366,11.922819806854662,-19.226867773725665,-11.668170364624036,13.147037226537911,11.105125087352839,-20.590051551148466,-18.810855677414246,3.809728370630245,-18.545734062793944,9.480420090308014,-19.844773111936686,-12.32599634658888,-17.203984789680387,5.956404156218755,-2.606109348703889,7.889350505740295,-16.778487171825333,-16.22500141176217,-18.436011198810238,8.816233943478231,1.295944125085903,2.8206767158270414,13.755299024277496,14.021438479255202,14.53959327685679,-14.425313280752137,-20.90881845348801,-20.125108034575184,11.313278450924066,-14.686272505172965,-1.262744598945885,4.298221954543678,-16.05821970522444,-14.803655870215833,-16.643372150672654,8.652982596553555,-23.06487892325558,14.13868331772768,11.30193077872883,-3.48590087604359,-14.402795980326315,11.11160031861006,7.419061141668249,-20.275478999815597,-8.786072119060814,-12.066311163719838,-8.116683179622964,0.2492890203006559,-15.8500988840314,-19.240733924982262,9.90072872335964,-25.832456436414507,-14.945785256265323,18.33641891620401,-1.3777704525917627,-4.590266385056543,-9.803544078031155,9.48676963342798,-3.794747427012746,-1.1426293521476092,-8.491316192491322,-20.96297598034187,9.982619509493768,-9.922240887948714,10.006117485497013,12.563631295164132,-17.964233778561944,9.926467792681764,4.062478568361654,-10.451477474120084,-17.43799969837072,-8.68755981764263,-19.9034883235871,7.160960005934794,-16.503670294017176,7.449968451701234,-1.2506914188513798,-14.577983176940283,-11.562740337865899,-19.74549083724039,-8.799138346227112,-19.204679720166613,3.416475834098355,0.9384572995419522,-7.470721369349494,-9.756333823568639,3.2577437807417158,-13.798248211111687,20.221006689601996,-11.292009746382814,11.731101509613104,9.773710161786402,-7.174979022466657,-13.39818425269397,9.146705049889777,-14.616306078588858,8.320079199128202,12.184616084989484,-4.757179920739168,-9.811456085026183,10.02127937971129,8.386239291220477,-9.164384056123502,-22.360265563416743,-16.23889917899014,-17.743699030875607,-5.544145952391623,-17.893103427990486,-7.608578365884367,-17.718995663812066,-1.5816265567100845,11.829518929550833,8.109497329863231,-12.501361891460915,-12.086172127096711,-9.850878345637092,-2.93280002636112,-1.6314483539820859,8.733044147622175,-15.848295829370562,-8.202636920615303,13.896153779585347,-16.083529304528355,-1.2485407191392568,-7.504935306664035,7.406203400569302,3.614997274607482,-12.013318365867525,-0.31585310998333965,3.2746304337659704,-8.707300695943562,-16.150184926603014,-12.063742179725995,-22.88306536993298,-14.324043411649477,-25.848057192206745,-10.21554982986459,-20.285898989989906,12.286978871797789,-14.884239302174754,-9.4768554123389,19.736392491625914,-18.838988803918323,-3.6046204953522025,-15.258628085374706,-9.184908947650682,-19.63244172915518,10.68733336790436,-0.9976928633182097,-15.994417053114582,9.70788968048948,-10.26342682414838,14.154114747397093,13.954466487966998,-18.459433902604257,-1.5576348869085008,-15.557249221611677,-15.0916377693385,-2.777094153373926,-6.627622487413461,14.097355379627261,9.906449351775365,-15.147734578887036,-17.508266572020787,-17.9399557844185,-14.079424700885674,-25.132756235844678,-15.90948711358251,-17.81807936283479,-1.065794377050232,-11.605393667390846,12.131485278223293,-9.009168489347331,-15.410567255020675,-14.325922229343576,-10.184494066909188,-2.85498505469976,-19.113967018622848,0.45333454900437775,2.6505112340314656,9.870990261903447,-14.31275915501115,-14.651843734085729,-13.120316871265334,-19.901562344533254,-11.443166938272824,1.3391368161064197,11.332732555716897,-24.052702103102998,-22.743828475710675,10.120869950782788,6.11709873782272,4.884001203260064,-7.223176307261803,-10.373630008964136,5.461228204038436,-21.855151469986545,-10.050199397979648,-6.932418958584267,-17.53321574680195,10.076003619236579,-15.199984305805243,-1.865303168715934,-14.838776624171311,-15.670833532019465,9.470159002076896,2.397553093230951,8.648152662945735,9.308236978198419,-1.4537047934191392,-7.632449377523696,20.198569431066076,-7.89645632079769,7.708553423583798,-16.562406279649704,-8.278837420496505,-8.547236292908432,-6.059820681289863,4.462382536161184,15.323048257040108,-9.715703651046118,-18.385187605994066,-7.935978525584369,-15.807537109266578,-12.658654766476165,-13.178458730907035,8.550190419410312,-9.51024734998524,-21.554071769734744,-21.143862492634625,-11.96578618208276,-15.313431100733583,-14.778477553508802,-9.19309121503367,-16.046051639456532,-13.401346893810238,-6.933304788282615,-20.599474512269822,-18.77907052464093,-0.6925639686209997,-12.850919232599207,-1.799930694867269,-5.71337369856818,-7.567102265627412,-10.095167795277098,-10.201062424004721,11.008149259060838,-16.365113597919013,-20.09978852304018,-14.181874430669767,-9.884596262190517,2.498140313410844,-0.8603220825734548,-7.702949140269096,-17.992702631262276,11.302540253342755,9.603751787569243,-3.6124740457537885,-21.528014292357394,-17.148695396368467,-9.072770773938547,2.069597291472886,-22.56690824033535,-16.971565863686735,-19.443167873518163,15.258266173906428,-12.860232075867053,-20.483328698184003,-8.26204052580011,-16.621494020946493,10.318121928207534,13.082816509540603,-11.964250316332398,9.057088066626868,-19.91996406176581,11.154625291277993,7.876165350365184,-16.4798072984159,-12.778595017094652,8.942139764568699,-1.5824792198676645,9.989177572604037,-12.771321433156114,9.240384834448111,-0.012943652955171829,-14.828122834751253,-22.683868935195612,-9.577304618352743,9.916777029201127,-8.695625081472734,-20.052555799764562,-17.399773835354406,9.951980625531391,-23.01895321891066,-9.35761294725361,-15.270119577680541,-7.163176949844211,-10.890923999126736,8.54984373194189,-13.163332728954652,-10.935035685263847,15.116670915267747,-9.542911252254425,-0.769012320787807,10.873575252977739,1.3406083600023757,-9.207912337076127,-25.316576891946127,9.51927867099827,3.3747025809953226,-15.1180968295136,-8.426621847680853,-15.921428895869784,-13.185319219011904,-5.315811119596618,-12.401487148382072,-1.5642539346913902,1.4190844766748063,-8.699210548188624,2.2852244509045807,-19.308095318291468,3.0096938502436723,-21.941009183707934,10.177853383712781,-21.626685607694263,1.777428251087648,-3.6608589481367213,8.78926131919185,-7.46389236117993,5.31721789996364,-8.495319643215636,-13.191317573607073,6.434599682223187,-11.51879565894216,10.34329324806317,9.098432738228606,-11.426203868323597,-5.175577927369484,10.338171731532702,-3.7738823507099863,-8.259820899381136,-14.815488773779137,0.42364825069963874,-9.037276758012434,-15.357125871120191,2.543106494977774,-4.672986336823843,-9.432029621007196,7.29930807997,-12.872241166468438,9.901113075928112,-12.419025031218883,-14.42663653621756,-19.947650457286834,8.599902268974708,-8.765549896577197,-21.41532190085978,-1.8572467555292822,-22.102840230265148,11.141535236867607,-19.006442512921932,7.996170909539135,-1.9517531243171247,5.546422351311348,-9.827284856116854,9.411767330690664,-18.48806241081237,-11.954351556253162,-4.696465284027727,-7.974356269446294,-21.45154710001515,-25.787357432871897,-18.698737571617038,-10.564046546488731,-18.464582576645952,9.95704372762921,-12.42352582021071,-11.473054632660649,9.347350759082639,-7.290387033000606,-16.43263692377018,-14.158613841972473,-1.1126967847639466,6.872788842956434,0.7944838780146504,1.0491968045645534,-2.134135543999469,-17.11980231620115,-0.09230180867650269,-21.976735826383806,-11.341106602233074,-18.199423003509775,0.10840444074580048,-8.601063866370268,11.819034550608036,-24.23244777519587,-16.660202296553585,-13.821989443035658,-10.009898029793675,0.9816130276782856,-12.039177238417485,-1.8040842977236977,-16.461582640237047,-1.5672789210144713,-8.616379321590012,6.975045573860053,-23.277721075879164,-14.689415854781988,10.515767341933673,9.659886946698501,10.541446254842784,-9.588364626576983,-0.04005207598066467,-14.678907655163131,-16.646957570440645,-16.534153383704542,-12.858918676809736],\"x2\":[6.2602537194014936,1.8097522404573576,14.564484784971212,1.1650065025607617,15.212368154456458,11.711485511274601,5.036574859349397,-1.284277692661381,10.790479005747365,5.223267553170734,-8.012910092974671,-12.910994395238838,-12.82165596542884,11.435870917930625,12.913350023806391,-9.760171210991947,-16.19679692879053,-3.218292953588064,15.860691836561765,5.724687531431322,12.82755354479959,14.54660745687627,-2.8195439370023494,-1.456673625757003,-15.796726555877775,-0.2186280603882806,0.8100245143523108,-3.674661455216125,7.48033398763187,4.9379725737599545,-3.518392616634978,-0.9592168421700079,2.4062455138069376,6.484979111491733,8.115140197669744,15.02357892731125,15.764061001927617,-12.701204462051324,1.3678438111308262,2.2444248445474217,-4.296961222837406,-9.774304152072304,-5.301802981849239,9.991385640465278,15.621719413803103,0.6047202544081862,-15.763803417100954,-1.3290562219656734,1.4334821028214224,12.759217378469835,17.784394684185223,5.08763263908037,-1.5959156833363592,-3.0202840445091037,-13.74353489941987,13.526367942036035,9.617399276307065,-2.847321362513333,-9.060457304449377,-11.514798410839825,18.721215330792024,11.053024250902267,8.899990210559555,15.893676752780642,9.744480128471382,6.775464568918123,-14.117635973947117,11.67768286966655,-16.56215695263803,-9.722621588786316,16.66093202325754,2.8158792627325884,10.940056220870542,3.3031660643997593,9.069865626160174,3.7820170434780898,-14.31765225668308,9.8939171571734,-13.544035390079358,-17.765856566557343,21.03168112974701,4.3941907950464305,-4.020348007511573,11.306104767989295,0.8395261652409519,-17.09554486135091,17.42018458215585,-6.9924533557637085,-5.316378665344387,12.422637619982277,-16.31789195077415,1.5742390604581684,0.26887258398975183,-8.830596487981126,-7.631848712549049,-4.501960388074321,0.1659555674978671,9.684769660489813,-1.9788186628613804,14.227073372720607,-15.761518080254953,15.81070746257604,-21.73094465728916,-2.0965042309359685,6.31192509103217,3.6690823652012146,-12.871013377753624,-2.6543939131296157,12.897434594719137,-9.16299393227339,-10.454254254594836,-1.6666050460992547,-2.847696186085914,-0.508858513446883,9.499254150154528,2.40080059084749,8.118420334565034,9.548065155380485,1.4686415644526916,15.109471367398147,-15.513986915756263,3.3540660912045266,-8.7960425719569,-10.347175983400492,-13.508942760110905,15.218633502698488,13.202185080060254,-3.191047925506677,-2.892881728100592,17.021108129057463,2.7338628513938636,-1.7175451950696938,-17.156071821488254,-0.4778474718916773,8.484880237036176,-3.80797824814787,0.7501049279601293,13.992693696923263,1.4021858089428259,-16.675212899096795,0.8262509740333639,15.679321568197464,-21.75792378605768,6.381544693464895,-4.619755621873253,2.3128306646734833,-4.670403593366542,12.754216662060681,-9.910211242984099,-20.86007156639316,-4.716112524313696,-16.498783601828798,2.714015039476713,8.752151282069008,2.6374795814820073,6.174191963961685,6.44023469192226,20.952971276967048,12.066202501386595,7.938317699343348,7.665874087252307,-11.852628157805514,15.28030037766799,10.955082354093147,2.730759883302772,-17.418431076113457,4.748200625551201,1.3245312878844238,6.713517505397402,17.383875127639985,-16.426717664500664,17.893223777759573,4.253288587714669,-8.97952615607408,-12.570662935155363,-16.657131515054434,0.7007432662456868,-21.16813257340265,3.3638112870361585,-4.379397942381144,-9.749012126826676,1.83962126270432,9.75704451917431,-1.6391770234654262,-17.419306351372292,9.913200440956052,5.548667990665035,11.213224407128617,5.228569416369805,-7.729263170237648,17.036579047201524,4.525040628375458,9.231729083436834,3.9269026559409497,-17.405727935627876,11.200286281770055,-12.565721533157195,-1.3843761256077403,-19.59880401840983,9.681953749149221,-2.3484096617944954,-4.70964833660368,11.950825865314942,8.096922585397605,-12.857655000137637,17.777197166591996,-17.7740996477057,10.722771668531426,12.206304786184594,-6.399920731139894,-12.666912101341675,11.813751391997375,2.821172935244791,-8.333327514287076,5.360626998617479,21.07066867987183,-4.163844453291592,10.609855580152393,-22.9717565654932,-6.60610757534951,10.008295103073978,-21.902693411567505,3.8173256793691603,-9.383659007518025,17.382956130034593,1.660086179740818,7.951510857485083,15.214850188837225,3.6327277710772576,9.206948939487088,5.930200858781449,3.5679693171287816,-12.159181206061174,-11.89868448785995,-16.715802481855288,7.654848342682919,-1.1893283249643603,10.530862755058529,11.750624296847835,5.147677824412578,-21.221525326456153,-5.090151461888063,4.153217753861188,14.208409629572841,-22.11666950024622,3.109893554267268,12.828991881992552,14.690245831224134,-4.787766371299878,12.211508008858095,-6.35641898508781,6.56722413325055,8.741640398782316,-11.225966879770324,18.675056362354503,-0.8419154124311685,8.500358642172563,-20.49847953993023,-12.069431862869186,0.3876488074492468,4.241853361005717,5.620733404074456,-10.528548656936147,11.135821385607768,-4.352348424066043,4.860418500741534,-4.966817342164754,-5.341472638909375,9.388359159117353,17.601300897331722,7.253568872175515,17.17482440679051,2.677943336965857,-2.2595948246453936,7.685313718577584,-8.357926984226863,-14.363255522039378,9.86216608836035,3.025997643454172,18.598650993454566,-7.952879146111252,-4.839355450017882,12.874195221273839,9.06707599679682,-2.2362150983678686,7.231096036226383,-7.257189072763501,-1.721043324570026,-5.701333864078982,0.5040207020156257,-23.222135735517305,7.094208332492652,17.707119374650865,5.015855394037707,1.968673913320915,14.095849962764238,-14.80385594315808,-12.73885961299884,-5.015143372261737,4.650119388516183,3.7642379926105214,1.218469080242751,-19.318616160377445,-7.822528372860015,9.916929047154765,-22.65473029499427,9.759866067485147,-2.908305078513746,-4.019285800614547,-10.425775041240273,-0.6557961629966684,8.083420039657417,-0.6923760785461964,2.4813858656670242,5.670235483991119,-3.6737643608600723,-12.789376296799462,-17.317038948496748,9.73709374759386,-5.9468814805185515,-14.612315920434803,-1.7455158970939584,-7.073313166386308,-1.9575993524468942,-3.8581540447927587,-3.7981441720693057,1.7217856642357234,11.32067524586294,-9.148376389135885,13.239143951342463,11.86637154369374,1.777841029081504,4.270651309948082,-11.370751651625827,17.069766402809737,14.178665442981346,-3.1927707251508552,2.790656786819658,-11.083057805160228,-14.433348644741056,1.5379110781524057,2.8836939157537387,-3.444915679726848,8.788838895335932,1.7862302150648532,2.8034973438965722,6.479699460623412,10.434009015327419,-2.368102573087174,14.50210548604746,-22.033459091248247,6.5853009786411745,13.58470067040405,8.92098317780655,8.857576412784082,3.996363874067785,10.020523007191892,-0.9166339413454374,-0.9163457893553778,-10.193456659410122,4.191973573706962,-2.631764520959767,12.319520601097105,2.59177803121848,-2.4561602967427674,-13.092898852679719,5.509167554999521,-21.24650837321066,4.745602595079881,-0.07801960912916578,12.425176722080892,-7.845581817390155,10.80030728545031,-6.180680970588907,14.720827917013382,10.635173662249738,-1.9358121127239045,1.6967335747671282,0.94226358227125,-4.693571291441444,7.875150146353958,3.370686173958392,11.525469515433969,-0.5831674334048982,-1.0460197923063608,8.426030756709403,0.0400399023491943,11.808779197769567,5.023912496622711,4.894331897731291,7.110503180991685,7.38857818545633,5.0923043271229185,17.157083043389182,-8.364423620787575,0.28910528714390693,6.61205405811996,9.69873484795106,0.3740313221298157,1.5583122229998418,1.037774075622276,3.097441478918228,-1.714885334432293,13.654345957971524,13.789852476788433,-9.8568340288623,1.124417664107479,-2.242738747808732,20.453665872763086,-22.529335679325044,7.029774741313037,6.59359954097253,20.448685395381464,14.414691517827109,-22.733429414322543,-7.3482030770266356,2.0675087102416114,14.690062818830073,-1.637226335806344,6.823670782581127,14.517697675233359,-6.212111243399452,8.180576594579422,7.2017373398985995,2.0277671050611445,1.0992605778303266,3.3106965390469822,-6.850054506829365,-8.942346789824265,-19.590041472812597,14.169576924154182,9.126904395279537,-0.8564942083420775,6.954800378983288,0.7882803239902542,6.9559036169485235,9.485375955821695,12.662429101711254,-3.6548369135636625,1.2879160515949002,3.478975295014617,14.733277942886314,-22.582297261924797,-12.832580006929915,8.32823799066824,-9.545325204828107,11.102932722458233,1.1139647201092489,0.599573881612919,-9.639884806185101,13.786189219248955,8.132243237477924,18.186968957449924,-4.81959503131276,2.1090525591298115,-16.06362129704652,4.055642636160736,-11.968009788390306,11.372385337116137,4.3027271581115105,10.915974467732523,-1.131508036303564,-7.740689832691809,-10.595141954725722,5.3037377752880275,11.574805522359824,-1.2644767119153735,2.7657363965339195,10.930655670812188,-14.331606284469304,-7.9905137728613695,5.642301688816002,4.656297779032261,13.787542746689722,-5.577845243939438,-13.592980424742564,-4.731717974941373,7.288473039546738,8.277275463573748,-13.396818550694734,-16.26589826795553,7.320775634885208,-9.730755131574469,17.904608827373988,-11.54313931558191,5.505587690332108,16.983870073134014,18.18937391632037,-6.464474789606365,-4.024017498469114,20.817377400987105,3.5783738010949864,-6.1310563333095445,9.555357785744924,-0.6198408432696549,-11.354736057312296,6.2348973886898476,10.83881311054503,-8.529393991218283,17.155881263592907,-9.81068914821029,-10.06292023656397,-21.47335187851177,2.9686654017624994,-2.5581824904263106,14.664382803453092,-2.982211240200983,1.994971719754468,-12.931844244278963,0.23108117974629466,0.7811431151855062,8.2228294688718,-15.057388446938072,8.515663792095692,13.3428186567512,12.39800821993326,-20.07438924903594,6.342349642131511,-13.684612452361721,6.360958699997852,-2.7631766034465732,3.69076126682766,-8.629573285975145,-2.4201775665926815,5.79418607707187,-3.128954349330515,4.60730285644895,20.776901612113647,-11.014979772358462,2.6997035285214768,8.753885812257046,-16.24281163133619,-9.606949536205093,-6.574710986660091,10.613458233868732,-2.383311084712427,-6.991660672300201,2.6312314583949004,-22.1307426500423,-7.880091418380743,-5.954216555027628,4.601725059089778,-1.7954504235747482,-22.36251880832467,8.027975244184589,-2.5771482159929135,-12.352785051900206,3.2731170875256446,11.20350815284819,1.9761676694175059,2.7170589141680117,-14.51993271191108,-11.15248565920557,6.414352949153483,7.163756233989733,9.381842424902583,-4.362629568713291,1.969134354195534,-5.526083697170629,12.390478281332006,-2.841027110451592,-4.645022648062528,14.382456091140059,12.279363012445565,10.676116910436876,-6.006338949697054,-2.920433831886051,2.5823939673443665,-11.623073849122978,7.231817494868744,-8.259014799005513,10.10083848823302,-9.298552381477235,0.9547218048363759,-8.198310569351587,4.691854140261199,10.025230863542934,-8.812096580929396,8.99062513235156,3.4241947733402704,6.184614067369542,1.6768611320719011,11.719702707901716,-10.045310117046283,10.766409356753098,-12.817194726260073,-7.254829291829033,-22.00860636329598,10.870629131008187,2.339323151272458,15.2299671948231,-5.994909076396552,-1.1167439842489089,-8.821359680367179,-11.575387205887228,3.2654766955059573,2.560990715348532,16.88052573647577,-5.280509798105723,1.863444445654107,-16.07755960509212,3.2537383677007172,3.137902259901499,-0.22831179215418976,-9.607206114937242,-5.682191195754725,-5.517576844241222,-5.285672896470466,10.125794858658498,9.713069876626294,-0.2771235129058898,-9.000174978522532,-7.104597006203718,12.330860875037402,17.00673448183254,-8.875365628593665,13.522542316062452,-8.481166098518527,-6.208143742975929,8.916433046441476,7.635276224487466,-8.994075485099629,9.058790101336546,-1.1398967086994363,-8.929427403819501,1.930492388810806,11.259780551576625,20.80024588627543,-0.9398393104173599,-11.897261231547562,-3.1174894038394885,14.016628389696644,-2.1111266687911323,6.855658606256922,1.5003885545173488,9.230066812099933,-0.8439230347458158,5.947930964011234,-7.293369497941991,7.744582300306077,-21.42735113996663,-3.6180415484616146,-1.876507845620326,3.236256558885321,11.637626039808298,-22.257612174496643,12.60771702343624,-5.7141666529018265,-7.38464411718438,0.6776463839492972,-18.795607723568622,0.610201428570622,13.08511513753854,8.222599254648205,-10.867944601912708,2.788652096337566,1.9383973710482658,-9.598427487939137,-15.048822547562168,7.106519846208503,5.986991589587141,10.63682930432521,11.602028737954537,9.393492765608245,2.5218256829389887,4.696804665134659,12.378192581842987,10.900896240807663,9.89372399197567,18.951593753795787,7.828449118371585,14.683823472811962,-12.807808839820499,-7.834090207118559,3.9821612516212426,4.012039245198294,3.5119661222397554,5.902679543491116,-7.8801106355252735,1.5882134998822848,-6.4542907746094915,7.4707782703056305,-9.423017845705134,-4.85264478393272,9.378907564654149,-8.994880445400048,7.697527989842907,-10.624161876535958,7.716058203819198,2.1224204250011165,8.353855541616392,-7.2960852630542625,9.812472337186367,-4.835921741506819,-6.018519557787317,1.9569773746251267,7.48360719805575,0.5716180636558464,-0.32661760584477345,-4.989775815152085,-7.522612211419387,2.376259089754737,1.438836094239206,-3.5470000633648255,-6.509317923037617,-6.117783328503886,6.65495175201133,11.100775549545451,-15.027136916328777,4.470172509914228,-8.972113344973938,-3.9053593994677493,18.95026277995218,-4.955936678733869,5.215850186701275,-9.092258563681341,9.904016596222059,7.669934270071254,1.4598506023437694,13.73658371629144,10.157152020813712,-2.3999280865238517,6.419186485978275,7.271080038281753,14.719507101901431,4.254891882185051,7.360795689311611,9.333177255521049,9.079324158084004,3.8490932169240994,-21.857064516216962,0.9918258311174082,8.03653270032658,1.8506293136364655,-10.835715769708385,7.679023065170299,-7.445873346390811,-1.9073926658344253,-3.5909949002246053,1.9071839225936809,-0.8301198753543415,7.368250652112295,-11.873227632834354,7.559328352338855,0.8538534068584717,8.452243230987488,-1.979592808203223,-8.396870185296075,1.8310717309043036,2.3636540464701157,10.556529280016102,-9.992046786264725,-14.540183130430623,12.786656219029929,-7.849992007711108,8.620260738166568,-10.459369202191686,13.527043584059319,-0.23297293613770106,-4.969681035603615,10.554320643823775,12.392619873237855,15.697092502519292,-8.013679932490582,-4.649465807709836,2.2462386450002745,-10.197260963698158,9.54052384841057,-8.339412620358537,1.3466144231184665,-21.133789605758412,7.462441193829733,6.703314914578626,-9.152226957696461,3.1219262557919705,4.229606539274675,13.230272882345012,6.997040536588846,7.141319325733581,4.34546925783953,7.247452673020846,9.102306759474066,2.543898423606069,-5.857407238054531,10.911595766680412,5.882724772424692,9.058192166025933,-3.5269492908957387,-6.429186006327558,-7.672301377073203,4.388338389596979,2.466540201577926,-1.7595180489827915,12.275137752166248,14.685140724146729,20.35033345542429,3.5890379803884738,9.127881599308969,-3.3833293867668037,-8.71177124849111,-0.4452730228188782,5.2849712712496215,-7.823514144526941,8.89546613197553,5.246074672028758,9.039975344243167,1.814556024068458,-7.559430206559749,-2.5086060431616044,2.1667515354524305,-11.762472856460954,8.456538713448307,5.974807149751298,-3.2246235785925923,6.508957901639674,7.357752276203097,12.588416117509666,6.997297764964968,2.744316846472532,-6.020524698707987,6.260043190044725,10.506475821187669,-14.255091092468867,17.302822752718754,17.42325299855381,-1.0409062572101637,20.4130205919304,10.181566154896949,-10.832431157771776,-21.928175917568954,-8.789619311065707,-0.20961536804116143,1.8271140578311469,5.724638878064971,15.757700389645652,-4.7380834220005195,12.047104791515244,2.465820934375065,-2.443905267232007,3.1412375437210716,7.666589732079462,7.918470516236407,7.975185586091163,6.90884335002442,0.5310596012900831,9.969291602090513,7.894646420388147,3.6627704747116345,-4.244129261533693,0.8824297165809685,6.471685339573744,-3.4510576916847455,-0.26300920005802936,3.6465582387362545,5.118511532821271,4.531016679681664,5.297351978179984,8.896715370717736,-22.36015140356338,7.416045177298188,-9.138699540701746,4.816337309279429,6.190738369539782,-6.491900807826796,-22.067295876689222,10.635325493837664,0.17653246564497432,-3.818778938629207,-5.0139071083998585,9.610645883131362,11.19516823730532,-21.84251558042365,-5.299782128530752,6.537623249923383,8.763570161161374,-22.01053841361895,6.937479470321496,-11.919175258372366,1.4965245010195762,9.322452082150619,8.184735086770441,-5.460511583536872,0.21421096913671506,-8.803372294291336,-4.8500285620798875,-0.30580424723029875,6.617803724835452,1.9519061008886696,-14.23899187585959,-8.832041966303414,1.8107400714771875,-21.375039107162614,6.602651687259187,-0.4368411801147708,9.20263173128531,7.43572742151863,3.7576734060478976,2.0725352344121615,8.208894751606023,17.13623561446816,1.4267723970631145,9.061458567027069,-0.7797223359727498,9.350542368823604,15.598373588111025,-2.3493255340374013,2.086381874750135,5.4939179350862295,0.7671053338989267,-4.001226175663837,8.89969246891018,4.873409399707129,6.611312348927551,6.634273898363703,10.481127678730676,-2.563418666405433,8.709359191323442,1.647974458594343,3.304500216161524,-10.768652960992732,1.3317637928077866,-21.06655987871858,5.70109547817401,6.314738690538647,-7.832378044152132,11.390751785296198,-11.538277021622891,8.154620478486919,-8.159981920640824,7.227342718753366,-11.933981679025543,0.9485012336908623,17.349519089749503,-5.07812699636071,0.7287272334219805,7.422540565205908,7.3369788784132375,4.148128031109105,6.880466739632955,5.637197159053522,-3.6021937109858775,9.581497799096898,-5.967293259513957,3.190262602085858,4.376573802274541,17.467650970226778,3.6283391292853455,-7.623913194567832,-21.637047438173017,0.40281297411850914,-9.930582934946415,-7.434513440706451,-10.262538434355584,7.8986104723934085,1.4488085874812482,3.4205335437704583,12.464758969042427,1.882400455340729,1.081257638001944,-2.449080219388904,5.7350019041182625,-4.4172840253749195,10.118601026290543,7.029361215208022,8.566808618072864,16.791207842066598,3.890484587506559,2.2263402460236064,1.90536665859651,6.382873460462926,10.251415832627954,6.055484158371655,-4.126943744856634,-10.713120520065518,0.14940338943870546,-3.223728556771989,-11.531965226998585,-2.546888993720224,6.1953827408246545,2.4936751783907622,10.546170410389653,-10.35957995654616,-8.734503795771147,-7.503697996163442,-6.64698970839439,8.482147417602325,17.247369437221565,-11.683525451289968,3.5189942331838697,6.914658231351109,-3.9156609208565194,-6.3064733958606,-21.520810955796527,-5.559446238921737,-10.278620001763619,-1.1334218492053314,9.29898577668167,-1.1467355725501165,-6.425801506084611,-10.786887107984011]}},\"id\":\"29a7a56b-001d-4b71-99c1-29dfdef28a0a\",\"type\":\"ColumnDataSource\"},{\"attributes\":{\"dimension\":1,\"plot\":{\"id\":\"fc79be51-202e-4706-972a-ad15f56b3ef5\",\"subtype\":\"Figure\",\"type\":\"Plot\"},\"ticker\":{\"id\":\"68e55b20-8035-4fee-86f7-0a1fbdb12c12\",\"type\":\"BasicTicker\"}},\"id\":\"004dcde2-21a1-44fe-a337-7728324fa711\",\"type\":\"Grid\"},{\"attributes\":{\"plot\":{\"id\":\"fc79be51-202e-4706-972a-ad15f56b3ef5\",\"subtype\":\"Figure\",\"type\":\"Plot\"}},\"id\":\"84705246-c91a-48b7-ad32-c1f21d59ceee\",\"type\":\"WheelZoomTool\"},{\"attributes\":{\"formatter\":{\"id\":\"7d38c4d7-9042-4c70-84d4-cb6aa143c45d\",\"type\":\"BasicTickFormatter\"},\"plot\":{\"id\":\"fc79be51-202e-4706-972a-ad15f56b3ef5\",\"subtype\":\"Figure\",\"type\":\"Plot\"},\"ticker\":{\"id\":\"68e55b20-8035-4fee-86f7-0a1fbdb12c12\",\"type\":\"BasicTicker\"}},\"id\":\"a4210c2d-58b4-4a4f-9b37-af3aa80f78ab\",\"type\":\"LinearAxis\"},{\"attributes\":{\"fill_alpha\":{\"value\":0.1},\"fill_color\":{\"value\":\"#1f77b4\"},\"line_alpha\":{\"value\":0.1},\"line_color\":{\"value\":\"#1f77b4\"},\"size\":{\"units\":\"screen\",\"value\":8},\"x\":{\"field\":\"x1\"},\"y\":{\"field\":\"x2\"}},\"id\":\"a5ea2328-7d8f-4dba-9879-f6303aa3bdf9\",\"type\":\"Circle\"},{\"attributes\":{},\"id\":\"2ccea3f1-c42e-48ce-8f46-707cd4ee2984\",\"type\":\"ToolEvents\"},{\"attributes\":{\"plot\":{\"id\":\"fc79be51-202e-4706-972a-ad15f56b3ef5\",\"subtype\":\"Figure\",\"type\":\"Plot\"},\"ticker\":{\"id\":\"43475793-c5e3-4712-b715-33b51016e813\",\"type\":\"BasicTicker\"}},\"id\":\"cf9c85cb-c6e0-4099-b5c2-1b2b81aa2fb1\",\"type\":\"Grid\"},{\"attributes\":{\"plot\":null,\"text\":\"word2vec T-SNE for most common words\"},\"id\":\"1d1a4945-2195-4cf0-b570-b899869dfe67\",\"type\":\"Title\"},{\"attributes\":{\"data_source\":{\"id\":\"29a7a56b-001d-4b71-99c1-29dfdef28a0a\",\"type\":\"ColumnDataSource\"},\"glyph\":{\"id\":\"3ef2d07b-96c0-42c4-9204-98cd734a601b\",\"type\":\"Circle\"},\"hover_glyph\":null,\"nonselection_glyph\":{\"id\":\"a5ea2328-7d8f-4dba-9879-f6303aa3bdf9\",\"type\":\"Circle\"},\"selection_glyph\":null},\"id\":\"b5fb165e-8278-49c0-88fc-4124bec1fac0\",\"type\":\"GlyphRenderer\"}],\"root_ids\":[\"fc79be51-202e-4706-972a-ad15f56b3ef5\"]},\"title\":\"Bokeh Application\",\"version\":\"0.12.2\"}};\n",
       "            var render_items = [{\"docid\":\"7bccb324-f3dd-4713-8055-ac31ef5eb539\",\"elementid\":\"6aed7a56-30c0-4af6-8559-7f3d5a4009e6\",\"modelid\":\"fc79be51-202e-4706-972a-ad15f56b3ef5\"}];\n",
       "            \n",
       "            Bokeh.embed.embed_items(docs_json, render_items);\n",
       "        });\n",
       "      },\n",
       "      function(Bokeh) {\n",
       "      }\n",
       "    ];\n",
       "  \n",
       "    function run_inline_js() {\n",
       "      \n",
       "      if ((window.Bokeh !== undefined) || (force === \"1\")) {\n",
       "        for (var i = 0; i < inline_js.length; i++) {\n",
       "          inline_js[i](window.Bokeh);\n",
       "        }if (force === \"1\") {\n",
       "          display_loaded();\n",
       "        }} else if (Date.now() < window._bokeh_timeout) {\n",
       "        setTimeout(run_inline_js, 100);\n",
       "      } else if (!window._bokeh_failed_load) {\n",
       "        console.log(\"Bokeh: BokehJS failed to load within specified timeout.\");\n",
       "        window._bokeh_failed_load = true;\n",
       "      } else if (!force) {\n",
       "        var cell = $(\"#6aed7a56-30c0-4af6-8559-7f3d5a4009e6\").parents('.cell').data().cell;\n",
       "        cell.output_area.append_execute_result(NB_LOAD_WARNING)\n",
       "      }\n",
       "  \n",
       "    }\n",
       "  \n",
       "    if (window._bokeh_is_loading === 0) {\n",
       "      console.log(\"Bokeh: BokehJS loaded, going straight to plotting\");\n",
       "      run_inline_js();\n",
       "    } else {\n",
       "      load_libs(js_urls, function() {\n",
       "        console.log(\"Bokeh: BokehJS plotting callback run at\", now());\n",
       "        run_inline_js();\n",
       "      });\n",
       "    }\n",
       "  }(this));\n",
       "</script>"
      ]
     },
     "metadata": {},
     "output_type": "display_data"
    }
   ],
   "source": [
    "p = figure(tools=\"pan,wheel_zoom,reset,save\",\n",
    "           toolbar_location=\"above\",\n",
    "           title=\"word2vec T-SNE for most common words\")\n",
    "\n",
    "source = ColumnDataSource(data=dict(x1=words_top_ted_tsne[:,0],\n",
    "                                    x2=words_top_ted_tsne[:,1],\n",
    "                                    names=words_top_ted))\n",
    "\n",
    "p.scatter(x=\"x1\", y=\"x2\", size=8, source=source)\n",
    "\n",
    "labels = LabelSet(x=\"x1\", y=\"x2\", text=\"names\", y_offset=6,\n",
    "                  text_font_size=\"8pt\", text_color=\"#555555\",\n",
    "                  source=source, text_align='center')\n",
    "p.add_layout(labels)\n",
    "\n",
    "show(p)"
   ]
  },
  {
   "cell_type": "markdown",
   "metadata": {},
   "source": [
    "### Part 5: Wiki Learnt Representations"
   ]
  },
  {
   "cell_type": "markdown",
   "metadata": {},
   "source": [
    "Download dataset"
   ]
  },
  {
   "cell_type": "code",
   "execution_count": 29,
   "metadata": {
    "collapsed": false
   },
   "outputs": [],
   "source": [
    "if not os.path.isfile('wikitext-103-raw-v1.zip'):\n",
    "    urllib.request.urlretrieve(\"https://s3.amazonaws.com/research.metamind.io/wikitext/wikitext-103-raw-v1.zip\", filename=\"wikitext-103-raw-v1.zip\")"
   ]
  },
  {
   "cell_type": "code",
   "execution_count": 40,
   "metadata": {
    "collapsed": false,
    "scrolled": false
   },
   "outputs": [],
   "source": [
    "with zipfile.ZipFile('wikitext-103-raw-v1.zip', 'r') as z:\n",
    "    input_text = str(z.open('wikitext-103-raw/wiki.train.raw', 'r').read(), encoding='utf-8') # Thanks Robert Bastian"
   ]
  },
  {
   "cell_type": "markdown",
   "metadata": {},
   "source": [
    "Preprocess sentences (note that it's important to remove small sentences for performance)"
   ]
  },
  {
   "cell_type": "code",
   "execution_count": 41,
   "metadata": {
    "collapsed": false
   },
   "outputs": [],
   "source": [
    "sentences_wiki = []\n",
    "for line in input_text.split('\\n'):\n",
    "    s = [x for x in line.split('.') if x and len(x.split()) >= 5]\n",
    "    sentences_wiki.extend(s)\n",
    "    \n",
    "for s_i in range(len(sentences_wiki)):\n",
    "    sentences_wiki[s_i] = re.sub(\"[^a-z]\", \" \", sentences_wiki[s_i].lower())\n",
    "    sentences_wiki[s_i] = re.sub(r'\\([^)]*\\)', '', sentences_wiki[s_i])\n",
    "del input_text"
   ]
  },
  {
   "cell_type": "code",
   "execution_count": 42,
   "metadata": {
    "collapsed": false
   },
   "outputs": [
    {
     "name": "stdout",
     "output_type": "stream",
     "text": [
      "4267112\n",
      "853422\n"
     ]
    }
   ],
   "source": [
    "# sample 1/5 of the data\n",
    "shuffle(sentences_wiki)\n",
    "print(len(sentences_wiki))\n",
    "sentences_wiki = sentences_wiki[:int(len(sentences_wiki)/5)]\n",
    "print(len(sentences_wiki))"
   ]
  },
  {
   "cell_type": "markdown",
   "metadata": {},
   "source": [
    "Now, repeat all the same steps that you performed above. You should be able to reuse essentially all the code."
   ]
  },
  {
   "cell_type": "code",
   "execution_count": 62,
   "metadata": {
    "collapsed": false
   },
   "outputs": [
    {
     "name": "stdout",
     "output_type": "stream",
     "text": [
      "before: \n",
      "[' they are only rarely known to take larger arthropods such as scorpions and centipedes ', ' johnson presented the academy award for best visual effects at the   th academy awards on february           ']\n",
      "after: \n",
      "[['they', 'are', 'only', 'rarely', 'known', 'to', 'take', 'larger', 'arthropods', 'such', 'as', 'scorpions', 'and', 'centipedes'], ['johnson', 'presented', 'the', 'academy', 'award', 'for', 'best', 'visual', 'effects', 'at', 'the', 'th', 'academy', 'awards', 'on', 'february']]\n"
     ]
    }
   ],
   "source": [
    "# ...\n",
    "print(\"before: \")\n",
    "print(sentences_wiki[:2])\n",
    "\n",
    "print(\"after: \")\n",
    "sentences_tokens_wiki = [sent_str.split() for sent_str in sentences_wiki]\n",
    "print(sentences_tokens_wiki[:2])"
   ]
  },
  {
   "cell_type": "code",
   "execution_count": 66,
   "metadata": {
    "collapsed": false
   },
   "outputs": [],
   "source": [
    "counts_wiki = Counter([token for sent in sentences_tokens_wiki for token in sent])\n",
    "words_top_wiki = [kv[0] for kv in counts_wiki.most_common(1000)]"
   ]
  },
  {
   "cell_type": "code",
   "execution_count": 64,
   "metadata": {
    "collapsed": false
   },
   "outputs": [],
   "source": [
    "model_wiki = Word2Vec(sentences_tokens_wiki)"
   ]
  },
  {
   "cell_type": "code",
   "execution_count": 70,
   "metadata": {
    "collapsed": true
   },
   "outputs": [],
   "source": [
    "model_wiki.save('model_wiki')"
   ]
  },
  {
   "cell_type": "markdown",
   "metadata": {},
   "source": [
    "#### t-SNE visualization"
   ]
  },
  {
   "cell_type": "code",
   "execution_count": 67,
   "metadata": {
    "collapsed": false
   },
   "outputs": [
    {
     "name": "stderr",
     "output_type": "stream",
     "text": [
      "D:\\Anaconda3\\lib\\site-packages\\ipykernel\\__main__.py:2: DeprecationWarning: Call to deprecated `__getitem__` (Method will be removed in 4.0.0, use self.wv.__getitem__() instead).\n",
      "  from ipykernel import kernelapp as app\n"
     ]
    }
   ],
   "source": [
    "# This assumes words_top_wiki is a list of strings, the top 1000 words\n",
    "words_top_vec_wiki = model_wiki[words_top_wiki]\n",
    "\n",
    "tsne = TSNE(n_components=2, random_state=0)\n",
    "words_top_wiki_tsne = tsne.fit_transform(words_top_vec_wiki)"
   ]
  },
  {
   "cell_type": "code",
   "execution_count": 68,
   "metadata": {
    "collapsed": false
   },
   "outputs": [
    {
     "data": {
      "text/html": [
       "\n",
       "\n",
       "    <div class=\"bk-root\">\n",
       "        <div class=\"plotdiv\" id=\"6ccfd5e6-fc09-4c44-9f15-c8ac4c803843\"></div>\n",
       "    </div>\n",
       "<script type=\"text/javascript\">\n",
       "  \n",
       "  (function(global) {\n",
       "    function now() {\n",
       "      return new Date();\n",
       "    }\n",
       "  \n",
       "    var force = \"\";\n",
       "  \n",
       "    if (typeof (window._bokeh_onload_callbacks) === \"undefined\" || force !== \"\") {\n",
       "      window._bokeh_onload_callbacks = [];\n",
       "      window._bokeh_is_loading = undefined;\n",
       "    }\n",
       "  \n",
       "  \n",
       "    \n",
       "    if (typeof (window._bokeh_timeout) === \"undefined\" || force !== \"\") {\n",
       "      window._bokeh_timeout = Date.now() + 0;\n",
       "      window._bokeh_failed_load = false;\n",
       "    }\n",
       "  \n",
       "    var NB_LOAD_WARNING = {'data': {'text/html':\n",
       "       \"<div style='background-color: #fdd'>\\n\"+\n",
       "       \"<p>\\n\"+\n",
       "       \"BokehJS does not appear to have successfully loaded. If loading BokehJS from CDN, this \\n\"+\n",
       "       \"may be due to a slow or bad network connection. Possible fixes:\\n\"+\n",
       "       \"</p>\\n\"+\n",
       "       \"<ul>\\n\"+\n",
       "       \"<li>re-rerun `output_notebook()` to attempt to load from CDN again, or</li>\\n\"+\n",
       "       \"<li>use INLINE resources instead, as so:</li>\\n\"+\n",
       "       \"</ul>\\n\"+\n",
       "       \"<code>\\n\"+\n",
       "       \"from bokeh.resources import INLINE\\n\"+\n",
       "       \"output_notebook(resources=INLINE)\\n\"+\n",
       "       \"</code>\\n\"+\n",
       "       \"</div>\"}};\n",
       "  \n",
       "    function display_loaded() {\n",
       "      if (window.Bokeh !== undefined) {\n",
       "        Bokeh.$(\"#6ccfd5e6-fc09-4c44-9f15-c8ac4c803843\").text(\"BokehJS successfully loaded.\");\n",
       "      } else if (Date.now() < window._bokeh_timeout) {\n",
       "        setTimeout(display_loaded, 100)\n",
       "      }\n",
       "    }\n",
       "  \n",
       "    function run_callbacks() {\n",
       "      window._bokeh_onload_callbacks.forEach(function(callback) { callback() });\n",
       "      delete window._bokeh_onload_callbacks\n",
       "      console.info(\"Bokeh: all callbacks have finished\");\n",
       "    }\n",
       "  \n",
       "    function load_libs(js_urls, callback) {\n",
       "      window._bokeh_onload_callbacks.push(callback);\n",
       "      if (window._bokeh_is_loading > 0) {\n",
       "        console.log(\"Bokeh: BokehJS is being loaded, scheduling callback at\", now());\n",
       "        return null;\n",
       "      }\n",
       "      if (js_urls == null || js_urls.length === 0) {\n",
       "        run_callbacks();\n",
       "        return null;\n",
       "      }\n",
       "      console.log(\"Bokeh: BokehJS not loaded, scheduling load and callback at\", now());\n",
       "      window._bokeh_is_loading = js_urls.length;\n",
       "      for (var i = 0; i < js_urls.length; i++) {\n",
       "        var url = js_urls[i];\n",
       "        var s = document.createElement('script');\n",
       "        s.src = url;\n",
       "        s.async = false;\n",
       "        s.onreadystatechange = s.onload = function() {\n",
       "          window._bokeh_is_loading--;\n",
       "          if (window._bokeh_is_loading === 0) {\n",
       "            console.log(\"Bokeh: all BokehJS libraries loaded\");\n",
       "            run_callbacks()\n",
       "          }\n",
       "        };\n",
       "        s.onerror = function() {\n",
       "          console.warn(\"failed to load library \" + url);\n",
       "        };\n",
       "        console.log(\"Bokeh: injecting script tag for BokehJS library: \", url);\n",
       "        document.getElementsByTagName(\"head\")[0].appendChild(s);\n",
       "      }\n",
       "    };var element = document.getElementById(\"6ccfd5e6-fc09-4c44-9f15-c8ac4c803843\");\n",
       "    if (element == null) {\n",
       "      console.log(\"Bokeh: ERROR: autoload.js configured with elementid '6ccfd5e6-fc09-4c44-9f15-c8ac4c803843' but no matching script tag was found. \")\n",
       "      return false;\n",
       "    }\n",
       "  \n",
       "    var js_urls = [];\n",
       "  \n",
       "    var inline_js = [\n",
       "      function(Bokeh) {\n",
       "        Bokeh.$(function() {\n",
       "            var docs_json = {\"d34a17a0-ae36-4d08-98f3-cbfc8ae1a739\":{\"roots\":{\"references\":[{\"attributes\":{\"below\":[{\"id\":\"46fbb43e-a562-4813-833e-1ade2b1196f0\",\"type\":\"LinearAxis\"}],\"left\":[{\"id\":\"f1a0d367-78c5-425c-b90b-5675de724eb8\",\"type\":\"LinearAxis\"}],\"renderers\":[{\"id\":\"46fbb43e-a562-4813-833e-1ade2b1196f0\",\"type\":\"LinearAxis\"},{\"id\":\"a416d98a-5f37-4a7a-9a4e-ed1ee33e534c\",\"type\":\"Grid\"},{\"id\":\"f1a0d367-78c5-425c-b90b-5675de724eb8\",\"type\":\"LinearAxis\"},{\"id\":\"93dd1cd8-f2a1-46c1-84f5-508367ce40b6\",\"type\":\"Grid\"},{\"id\":\"4ba25913-b42f-40c8-9aae-0ac995469e15\",\"type\":\"GlyphRenderer\"},{\"id\":\"2596b762-7d1c-4b5d-b3e5-51b4f30efe7e\",\"type\":\"LabelSet\"}],\"title\":{\"id\":\"e97ff0f5-0b8b-4bfa-aba0-70f99404c81c\",\"type\":\"Title\"},\"tool_events\":{\"id\":\"7c1c46ee-6b8c-4e9a-80e2-fbf621e24388\",\"type\":\"ToolEvents\"},\"toolbar\":{\"id\":\"097ddbaa-ec61-4da9-88e0-6e2928b2137c\",\"type\":\"Toolbar\"},\"toolbar_location\":\"above\",\"x_range\":{\"id\":\"0f803472-f48b-452e-abf8-c99600e3545b\",\"type\":\"DataRange1d\"},\"y_range\":{\"id\":\"11f29fc4-6bae-44fb-adb8-ee5f09c3df1c\",\"type\":\"DataRange1d\"}},\"id\":\"16be4258-a6f7-476e-9339-bfc454e7928b\",\"subtype\":\"Figure\",\"type\":\"Plot\"},{\"attributes\":{\"formatter\":{\"id\":\"65085ee0-b777-4173-9176-8a82a86b468a\",\"type\":\"BasicTickFormatter\"},\"plot\":{\"id\":\"16be4258-a6f7-476e-9339-bfc454e7928b\",\"subtype\":\"Figure\",\"type\":\"Plot\"},\"ticker\":{\"id\":\"10b22f8b-8ba6-49c4-ab0d-3b180871a872\",\"type\":\"BasicTicker\"}},\"id\":\"46fbb43e-a562-4813-833e-1ade2b1196f0\",\"type\":\"LinearAxis\"},{\"attributes\":{\"dimension\":1,\"plot\":{\"id\":\"16be4258-a6f7-476e-9339-bfc454e7928b\",\"subtype\":\"Figure\",\"type\":\"Plot\"},\"ticker\":{\"id\":\"71cbe971-ca00-4339-9614-e560986cf2d3\",\"type\":\"BasicTicker\"}},\"id\":\"93dd1cd8-f2a1-46c1-84f5-508367ce40b6\",\"type\":\"Grid\"},{\"attributes\":{\"fill_color\":{\"value\":\"#1f77b4\"},\"line_color\":{\"value\":\"#1f77b4\"},\"size\":{\"units\":\"screen\",\"value\":8},\"x\":{\"field\":\"x1\"},\"y\":{\"field\":\"x2\"}},\"id\":\"90c18f51-765f-4e48-bde3-a0d79cda4c70\",\"type\":\"Circle\"},{\"attributes\":{},\"id\":\"7c1c46ee-6b8c-4e9a-80e2-fbf621e24388\",\"type\":\"ToolEvents\"},{\"attributes\":{},\"id\":\"65085ee0-b777-4173-9176-8a82a86b468a\",\"type\":\"BasicTickFormatter\"},{\"attributes\":{\"formatter\":{\"id\":\"3ebe2648-4db3-4181-83cc-9395edc14cc1\",\"type\":\"BasicTickFormatter\"},\"plot\":{\"id\":\"16be4258-a6f7-476e-9339-bfc454e7928b\",\"subtype\":\"Figure\",\"type\":\"Plot\"},\"ticker\":{\"id\":\"71cbe971-ca00-4339-9614-e560986cf2d3\",\"type\":\"BasicTicker\"}},\"id\":\"f1a0d367-78c5-425c-b90b-5675de724eb8\",\"type\":\"LinearAxis\"},{\"attributes\":{},\"id\":\"71cbe971-ca00-4339-9614-e560986cf2d3\",\"type\":\"BasicTicker\"},{\"attributes\":{\"plot\":{\"id\":\"16be4258-a6f7-476e-9339-bfc454e7928b\",\"subtype\":\"Figure\",\"type\":\"Plot\"}},\"id\":\"d8d0dc4b-5d30-4ca1-b903-6c55ed3708c6\",\"type\":\"WheelZoomTool\"},{\"attributes\":{},\"id\":\"10b22f8b-8ba6-49c4-ab0d-3b180871a872\",\"type\":\"BasicTicker\"},{\"attributes\":{\"callback\":null},\"id\":\"11f29fc4-6bae-44fb-adb8-ee5f09c3df1c\",\"type\":\"DataRange1d\"},{\"attributes\":{},\"id\":\"3ebe2648-4db3-4181-83cc-9395edc14cc1\",\"type\":\"BasicTickFormatter\"},{\"attributes\":{\"active_drag\":\"auto\",\"active_scroll\":\"auto\",\"active_tap\":\"auto\",\"tools\":[{\"id\":\"c911d03f-aa50-434b-818a-75031894a115\",\"type\":\"PanTool\"},{\"id\":\"d8d0dc4b-5d30-4ca1-b903-6c55ed3708c6\",\"type\":\"WheelZoomTool\"},{\"id\":\"36fe68f3-dc5b-4b50-81b2-292a8a194ce5\",\"type\":\"ResetTool\"},{\"id\":\"5a5ad64f-f1d0-4990-9246-4ea909d58084\",\"type\":\"SaveTool\"}]},\"id\":\"097ddbaa-ec61-4da9-88e0-6e2928b2137c\",\"type\":\"Toolbar\"},{\"attributes\":{\"callback\":null},\"id\":\"0f803472-f48b-452e-abf8-c99600e3545b\",\"type\":\"DataRange1d\"},{\"attributes\":{\"data_source\":{\"id\":\"5f49541f-8312-4d39-a110-78b944de74df\",\"type\":\"ColumnDataSource\"},\"glyph\":{\"id\":\"90c18f51-765f-4e48-bde3-a0d79cda4c70\",\"type\":\"Circle\"},\"hover_glyph\":null,\"nonselection_glyph\":{\"id\":\"482bf155-3b3d-4865-a72e-b21f72435dd1\",\"type\":\"Circle\"},\"selection_glyph\":null},\"id\":\"4ba25913-b42f-40c8-9aae-0ac995469e15\",\"type\":\"GlyphRenderer\"},{\"attributes\":{\"callback\":null,\"column_names\":[\"x2\",\"x1\",\"names\"],\"data\":{\"names\":[\"the\",\"of\",\"and\",\"in\",\"to\",\"a\",\"was\",\"s\",\"on\",\"as\",\"for\",\"that\",\"with\",\"by\",\"is\",\"his\",\"he\",\"at\",\"from\",\"it\",\"were\",\"an\",\"had\",\"which\",\"be\",\"this\",\"but\",\"are\",\"first\",\"not\",\"their\",\"after\",\"her\",\"one\",\"also\",\"its\",\"they\",\"two\",\"or\",\"have\",\"who\",\"new\",\"been\",\"has\",\"she\",\"when\",\"during\",\"time\",\"other\",\"would\",\"into\",\"all\",\"i\",\"more\",\"while\",\"over\",\"him\",\"game\",\"only\",\"later\",\"up\",\"most\",\"three\",\"about\",\"out\",\"between\",\"th\",\"than\",\"there\",\"some\",\"film\",\"may\",\"year\",\"before\",\"such\",\"made\",\"no\",\"second\",\"season\",\"where\",\"world\",\"war\",\"years\",\"both\",\"then\",\"used\",\"being\",\"however\",\"through\",\"song\",\"them\",\"series\",\"these\",\"against\",\"m\",\"many\",\"album\",\"team\",\"part\",\"north\",\"can\",\"number\",\"four\",\"became\",\"well\",\"united\",\"including\",\"city\",\"several\",\"state\",\"early\",\"under\",\"music\",\"south\",\"so\",\"day\",\"episode\",\"said\",\"following\",\"states\",\"american\",\"known\",\"could\",\"although\",\"did\",\"work\",\"began\",\"until\",\"because\",\"like\",\"released\",\"t\",\"called\",\"high\",\"end\",\"people\",\"british\",\"each\",\"since\",\"long\",\"around\",\"if\",\"found\",\"national\",\"best\",\"september\",\"life\",\"million\",\"same\",\"west\",\"back\",\"another\",\"us\",\"five\",\"along\",\"show\",\"any\",\"took\",\"you\",\"final\",\"km\",\"use\",\"group\",\"area\",\"august\",\"century\",\"off\",\"received\",\"school\",\"october\",\"what\",\"will\",\"due\",\"line\",\"government\",\"home\",\"june\",\"john\",\"east\",\"single\",\"games\",\"march\",\"general\",\"much\",\"system\",\"july\",\"november\",\"third\",\"large\",\"april\",\"down\",\"major\",\"set\",\"based\",\"york\",\"family\",\"just\",\"left\",\"house\",\"company\",\"place\",\"army\",\"we\",\"history\",\"played\",\"name\",\"character\",\"included\",\"road\",\"december\",\"six\",\"now\",\"king\",\"january\",\"wrote\",\"band\",\"won\",\"main\",\"according\",\"last\",\"video\",\"named\",\"d\",\"described\",\"river\",\"those\",\"own\",\"led\",\"within\",\"air\",\"death\",\"times\",\"near\",\"men\",\"top\",\"st\",\"late\",\"next\",\"battle\",\"record\",\"de\",\"very\",\"original\",\"production\",\"way\",\"league\",\"man\",\"make\",\"still\",\"ship\",\"release\",\"even\",\"though\",\"club\",\"route\",\"u\",\"species\",\"old\",\"small\",\"force\",\"storm\",\"days\",\"public\",\"again\",\"great\",\"february\",\"built\",\"do\",\"held\",\"play\",\"service\",\"book\",\"university\",\"among\",\"division\",\"further\",\"role\",\"b\",\"having\",\"side\",\"player\",\"french\",\"story\",\"members\",\"power\",\"match\",\"german\",\"white\",\"h\",\"water\",\"continued\",\"career\",\"often\",\"point\",\"order\",\"town\",\"park\",\"local\",\"without\",\"england\",\"black\",\"former\",\"came\",\"despite\",\"half\",\"considered\",\"party\",\"island\",\"take\",\"period\",\"support\",\"version\",\"c\",\"songs\",\"few\",\"different\",\"county\",\"form\",\"development\",\"english\",\"moved\",\"written\",\"become\",\"given\",\"military\",\"london\",\"lost\",\"international\",\"president\",\"country\",\"court\",\"ii\",\"church\",\"little\",\"tropical\",\"n\",\"forces\",\"tour\",\"performance\",\"re\",\"gave\",\"track\",\"returned\",\"building\",\"published\",\"attack\",\"short\",\"using\",\"lead\",\"street\",\"never\",\"similar\",\"went\",\"total\",\"my\",\"royal\",\"recorded\",\"live\",\"ships\",\"produced\",\"land\",\"class\",\"position\",\"run\",\"stated\",\"throughout\",\"star\",\"television\",\"children\",\"aircraft\",\"include\",\"upon\",\"highway\",\"western\",\"good\",\"control\",\"women\",\"per\",\"father\",\"once\",\"week\",\"fire\",\"how\",\"right\",\"making\",\"himself\",\"love\",\"characters\",\"age\",\"less\",\"head\",\"away\",\"me\",\"light\",\"players\",\"title\",\"central\",\"station\",\"design\",\"instead\",\"writing\",\"young\",\"result\",\"australia\",\"law\",\"return\",\"red\",\"seven\",\"across\",\"james\",\"remained\",\"ten\",\"previous\",\"rock\",\"sea\",\"months\",\"died\",\"r\",\"developed\",\"night\",\"ft\",\"e\",\"eight\",\"political\",\"field\",\"felt\",\"areas\",\"office\",\"hurricane\",\"too\",\"southern\",\"center\",\"noted\",\"sent\",\"america\",\"created\",\"low\",\"son\",\"william\",\"reported\",\"win\",\"race\",\"construction\",\"miles\",\"reached\",\"style\",\"japanese\",\"eventually\",\"various\",\"announced\",\"seen\",\"should\",\"award\",\"served\",\"act\",\"college\",\"together\",\"range\",\"northern\",\"member\",\"performed\",\"level\",\"mm\",\"followed\",\"works\",\"common\",\"others\",\"campaign\",\"able\",\"full\",\"body\",\"taken\",\"located\",\"originally\",\"action\",\"born\",\"killed\",\"points\",\"post\",\"appeared\",\"australian\",\"project\",\"established\",\"thought\",\"started\",\"football\",\"playing\",\"success\",\"bridge\",\"stage\",\"george\",\"modern\",\"features\",\"get\",\"special\",\"feet\",\"critics\",\"front\",\"rather\",\"site\",\"caused\",\"formed\",\"addition\",\"chart\",\"almost\",\"every\",\"completed\",\"f\",\"added\",\"population\",\"present\",\"decided\",\"fourth\",\"o\",\"saw\",\"championship\",\"heavy\",\"behind\",\"eastern\",\"guns\",\"popular\",\"sold\",\"open\",\"david\",\"go\",\"see\",\"command\",\"initially\",\"kingdom\",\"important\",\"non\",\"region\",\"soon\",\"director\",\"damage\",\"strong\",\"opened\",\"fleet\",\"l\",\"ground\",\"art\",\"close\",\"union\",\"weeks\",\"leading\",\"case\",\"event\",\"awards\",\"mother\",\"recording\",\"france\",\"mi\",\"working\",\"hall\",\"towards\",\"michael\",\"least\",\"ever\",\"coast\",\"allowed\",\"sound\",\"scene\",\"worked\",\"training\",\"wanted\",\"help\",\"hit\",\"does\",\"free\",\"cup\",\"henry\",\"victory\",\"magazine\",\"scored\",\"records\",\"provided\",\"average\",\"put\",\"either\",\"washington\",\"list\",\"navy\",\"placed\",\"featured\",\"brought\",\"troops\",\"far\",\"studio\",\"generally\",\"co\",\"runs\",\"designed\",\"council\",\"wife\",\"events\",\"official\",\"example\",\"human\",\"mid\",\"summer\",\"robert\",\"nine\",\"european\",\"believed\",\"europe\",\"earlier\",\"hours\",\"joined\",\"squadron\",\"media\",\"base\",\"start\",\"al\",\"replaced\",\"opening\",\"radio\",\"operation\",\"involved\",\"successful\",\"possible\",\"largest\",\"test\",\"big\",\"japan\",\"rest\",\"minutes\",\"beginning\",\"society\",\"met\",\"month\",\"police\",\"association\",\"saying\",\"research\",\"brown\",\"change\",\"significant\",\"review\",\"films\",\"available\",\"shot\",\"better\",\"finished\",\"process\",\"must\",\"x\",\"come\",\"mph\",\"highest\",\"units\",\"forced\",\"particularly\",\"lower\",\"increased\",\"crew\",\"real\",\"captain\",\"outside\",\"san\",\"ended\",\"middle\",\"turned\",\"space\",\"stone\",\"relationship\",\"praised\",\"cast\",\"reviews\",\"above\",\"previously\",\"goal\",\"going\",\"section\",\"community\",\"business\",\"enough\",\"signed\",\"gold\",\"canada\",\"social\",\"winds\",\"chief\",\"additional\",\"passed\",\"charles\",\"taking\",\"ordered\",\"future\",\"cross\",\"elements\",\"told\",\"thomas\",\"hill\",\"move\",\"appearance\",\"thus\",\"plan\",\"type\",\"lines\",\"rights\",\"castle\",\"prior\",\"district\",\"california\",\"positive\",\"news\",\"cover\",\"failed\",\"groups\",\"sometimes\",\"give\",\"round\",\"attempt\",\"staff\",\"don\",\"directed\",\"interest\",\"critical\",\"committee\",\"g\",\"board\",\"parts\",\"gun\",\"spent\",\"paul\",\"itself\",\"claimed\",\"find\",\"money\",\"hand\",\"battalion\",\"required\",\"brother\",\"infantry\",\"overall\",\"program\",\"grand\",\"germany\",\"complete\",\"evidence\",\"our\",\"female\",\"asked\",\"term\",\"musical\",\"lake\",\"p\",\"india\",\"port\",\"election\",\"uk\",\"reception\",\"v\",\"study\",\"plot\",\"entire\",\"minister\",\"already\",\"personal\",\"bill\",\"whose\",\"introduced\",\"room\",\"background\",\"response\",\"person\",\"usually\",\"past\",\"indian\",\"education\",\"smith\",\"press\",\"village\",\"effects\",\"ny\",\"mark\",\"food\",\"blue\",\"movement\",\"limited\",\"square\",\"novel\",\"idea\",\"green\",\"voice\",\"turn\",\"peter\",\"k\",\"especially\",\"stars\",\"score\",\"governor\",\"speed\",\"teams\",\"centre\",\"operations\",\"shows\",\"industry\",\"remaining\",\"quickly\",\"britain\",\"issue\",\"la\",\"science\",\"decision\",\"students\",\"living\",\"car\",\"debut\",\"richard\",\"whom\",\"empire\",\"defeated\",\"surface\",\"arrived\",\"services\",\"leaving\",\"department\",\"virginia\",\"episodes\",\"material\",\"loss\",\"length\",\"commander\",\"fifth\",\"estimated\",\"civil\",\"might\",\"earth\",\"writer\",\"suggested\",\"queen\",\"cut\",\"carried\",\"woman\",\"latter\",\"islands\",\"running\",\"approximately\",\"leader\",\"anti\",\"provide\",\"god\",\"depression\",\"bay\",\"dark\",\"los\",\"percent\",\"course\",\"pressure\",\"naval\",\"entered\",\"nearly\",\"self\",\"structure\",\"today\",\"larger\",\"date\",\"language\",\"higher\",\"changes\",\"producer\",\"flight\",\"proposed\",\"commercial\",\"shortly\",\"influence\",\"pop\",\"supported\",\"scenes\",\"appointed\",\"lack\",\"becoming\",\"view\",\"child\",\"married\",\"network\",\"railway\",\"finally\",\"report\",\"current\",\"fact\",\"wide\",\"daughter\",\"whether\",\"face\",\"winning\",\"destroyed\",\"compared\",\"size\",\"longer\",\"brigade\",\"tracks\",\"museum\",\"hot\",\"done\",\"experience\",\"awarded\",\"create\",\"nature\",\"guitar\",\"subsequently\",\"spanish\",\"immediately\",\"intended\",\"regular\",\"upper\",\"associated\",\"ball\",\"helped\",\"related\",\"fans\",\"appear\",\"chicago\",\"buildings\",\"feature\",\"professional\",\"mostly\",\"private\",\"contract\",\"soviet\",\"fort\",\"chinese\",\"moving\",\"captured\",\"something\",\"lord\",\"natural\",\"agreed\",\"forward\",\"health\",\"officer\",\"nd\",\"manager\",\"countries\",\"numerous\",\"regiment\",\"mixed\",\"corps\",\"cm\",\"probably\",\"cost\",\"singles\",\"friends\",\"books\",\"dance\",\"effect\",\"initial\",\"pacific\",\"plans\",\"trade\",\"minor\",\"officers\",\"planned\",\"jackson\",\"changed\",\"really\",\"issued\",\"increase\",\"edward\",\"remains\",\"got\",\"soldiers\",\"difficult\",\"location\",\"key\",\"removed\",\"conference\",\"winter\",\"roman\",\"themselves\",\"your\",\"energy\",\"copies\",\"singer\",\"yet\",\"friend\",\"extended\",\"fight\",\"includes\",\"composed\",\"always\",\"fell\",\"information\",\"j\",\"billboard\",\"unit\",\"albums\",\"lyrics\",\"via\",\"federal\",\"majority\",\"dead\",\"problems\",\"johnson\",\"status\",\"meeting\",\"goals\",\"atlantic\",\"impact\"],\"x1\":[-11.924446108950203,-10.930729876253274,-11.313834630977096,-8.881334886393416,-13.85481763462076,-13.26105414706205,17.601373265845744,4.692177640412371,2.7574520178452073,-14.167282820662702,-11.771763076416507,-19.597670293510184,18.349643876005903,-14.30479594526356,17.594873412031315,-13.401653492817887,-22.283829397564624,5.563422113586607,7.252792007719726,-13.44173458995214,-4.723247217233538,-13.346867153045084,-22.422952206082527,-19.166936877491423,-15.459770407198453,-13.329655205214886,-20.23020806789111,-4.725486827321685,-2.8403753548085877,-18.417647409733092,-13.509240431056265,-5.9524976744548965,-13.383900670684007,-20.42663404032214,-15.700578237505173,-13.443825636773555,-23.555076776767553,-20.122944099523163,-14.024413708349268,-22.42721877420844,-25.672819215569604,-8.860467503491408,-16.471415193314794,-22.430972051647874,-22.28340496732962,-17.918876353290564,2.4681347164980063,-5.7921914797723995,-16.140809406137787,-7.198604706429675,6.220391925485728,-17.636166983368284,-23.677993702665226,-19.720408967543882,-19.084367397118452,4.056758398806577,-14.948470125098028,16.54710709031465,-15.643888281542988,-13.034012245678866,6.07980811696158,-16.79547509366389,-20.34788458108165,-9.281667673913772,5.501816214246424,-4.56880591224493,-15.460593042858658,-10.896270706157983,-15.886277542237625,-17.534654824931593,-11.906427099885107,-7.969797813596944,-15.56999941323558,-5.907181864114254,-17.37206095929737,2.3361218222309414,-16.829885036076504,-2.082112885501813,9.989373935516898,-18.50138211993172,2.4565576455938425,1.8094621400558455,-17.451237435003332,-17.24236397004486,-15.659390890178841,12.970484418867514,-15.147858709370656,-20.094117575084475,6.084587985455168,13.591923271307454,-15.121391992645801,9.531097821090816,-16.71708959715841,13.510046567586775,-8.47438243930335,-17.78063726569332,14.104275043953155,14.52004902507915,-6.565385341767189,7.333904443308264,-8.012575662007725,-10.490813850188312,-20.478146971849803,-0.3853007978773662,-17.374963712650356,1.426616464292147,14.15683291005167,1.740328975177637,-18.412108422516805,-4.980929996386298,-8.480259674408495,-8.240597534061157,11.368907140782444,7.295640643268314,-20.310493381910476,-14.991864485233542,-10.565740992336934,17.42824491409455,-5.722202394962683,-12.286327300075753,-1.0226973674417439,13.705683526117022,-7.234816904938425,-20.101214677782227,-5.783438255904481,10.108900267801605,4.896672984965156,-17.372267052547674,-20.43376862955418,-19.06412465706,14.081767469267385,-21.823829536067937,13.983808333420967,-18.16965679090453,-7.815501189571357,-1.4840729124080445,-1.8866050166995667,-12.379522523292435,-16.874817008187076,-15.40952321253487,4.535665734251737,-20.517366440340822,15.226792935312607,2.3053939830737913,-0.07933768985511869,20.76061529801208,-5.936094957112063,-7.949794808758816,-11.848815336481596,7.148571070179158,4.878351512381155,-13.266466705459157,0.5266993981455317,-20.533997911471147,5.210335201719826,9.14696264063798,-14.701144426033643,5.491929117196972,-23.949057250366142,-3.348726843473734,20.729231983379808,-5.8732629353334325,1.4810040699093494,3.100390335062086,20.716720496598825,-2.7333370000183574,5.212814734102716,9.977744986313525,7.237748170504126,20.68206718588135,-20.21771761526564,-7.607292736455398,-7.996106950856086,-1.8150142044825075,-4.574862895557547,-6.843652489297763,20.43165859830045,7.721101358442679,7.142166635230581,15.752095813449746,16.566483803261068,20.168707274306076,4.901896500198848,-17.224022756622713,-4.9718792038660355,20.394602515192133,20.49693222840758,-2.0430091231710827,-13.0635789768873,20.169138071098107,5.157432505629501,-10.694436034182434,10.64795176214829,9.208182865361806,6.136740131737107,-0.5308575376829151,-17.98000335886612,7.28321076972951,0.30063277675348865,5.416638972409894,-6.922354590064593,-1.0234471750026544,-23.84583675839948,8.01047250671075,15.750941408428776,-13.784055675121055,-10.04040680937879,13.896689124829328,-2.636886590131108,20.513953264827276,-20.566141854194452,-15.310530168533102,7.486665782411171,20.26160176183088,17.296798686086284,13.070226952617192,16.19937197562169,-9.867773486288536,11.500630591487369,-3.4517011459623164,8.804269301814902,13.57489054503856,-11.0954526541843,15.688001302593008,1.2444988019807732,-16.127331095117846,-7.893916282637197,9.346770398009227,-8.192929526278887,0.45235208138004546,1.5411899623179535,10.160864209934555,5.423470594698223,0.06355181032223223,-0.42635405116701314,-15.460288923786402,-8.530034597595684,-4.159218052330949,2.3393864320600635,15.64002398276101,-8.367425276921539,-20.787593691713106,-10.986306638963246,6.046018610324677,-4.334293982828357,14.432731545033706,-3.7460520761553857,2.7816995945071072,-16.018189889383216,-0.35141384188768,13.572388463856297,-17.093023592578565,-20.138559775362005,13.860599790379387,0.018627504112416204,0.7280882461458535,-3.4268154473677153,-11.494221859285432,-12.95799432275512,-1.3983405654775534,-18.47376274072435,-17.437304009048354,3.9119529157753368,-15.244803858781143,-11.616567007538963,20.497399383365057,12.529404162198597,-14.179579349451092,9.490923369605541,15.695392579191978,4.800843769600213,12.036829580586636,8.57199992406884,-23.322133098091808,-1.7902015479719842,-14.193046092784401,-10.060117007386145,-10.763517525303323,-22.411952975318833,-4.398162224973922,15.693201053320891,-0.16190688351226878,-9.314969935960255,3.035323679816296,-6.008121343347602,17.01268999792968,-2.57668140637642,-10.149966827264453,-9.578384386166528,-3.720127357412314,4.132914011435432,12.623502643582729,-15.29110964992911,-2.398950726651114,-4.132411304128074,2.727785344563013,2.434902920980974,2.7208154319054993,-12.825150675563732,0.4251135156770951,-10.272941421662297,6.733439844328817,5.57183695968092,-7.955580413563943,-8.225924863292734,15.142430495763957,-2.5222352405952204,3.381094786757752,4.699927429446217,-4.979020010508393,-7.191138397050222,12.926648547724051,-10.77945754305066,13.836782606505032,-19.177172047095333,-16.058527681295967,4.1207232718670195,-4.400414653315844,5.980722158110958,-2.1105071743291974,6.482001999086279,16.218144993063564,-0.6980769723608978,10.000624831156681,-0.7903648141827314,0.4355233716547481,8.507899034620035,1.8960336798378319,4.96154417600837,1.8576104951764911,-5.890454302175154,-10.190253048722054,-0.349182481044003,-17.460831553656558,-18.496066854253446,-9.125118281786294,-1.2391790567829217,12.77025061312429,11.841583782149064,-14.83312801081803,5.223588917945178,13.452912044859914,6.221112810834735,-1.4700545187760308,11.048550842079875,1.1839451892469326,-12.328678537570536,-4.9842359020099645,7.719776278928445,0.20565768066285495,-18.079448657504997,-10.66984207612913,5.258350627921381,-8.968240790985737,-12.214023000786316,-0.2640641858826138,14.910955470152379,9.711172897252721,-3.0921969682012014,15.755094283100032,0.2373768171011431,-4.847204962344474,-15.626610855004603,12.742008360532363,17.3069289455935,2.679821833453614,-24.109532816886638,8.623317651133982,-2.1124420272611233,-0.7185480069807048,14.116781790727385,2.6945059895985075,-1.0061604768351882,5.62192681288197,-18.26121792730798,-6.099941699312277,-2.097142386649356,-9.335580279632275,-2.845348515339981,-16.454542538146637,-15.507855399420611,5.646207252426146,-20.307907328627184,-5.376849421848047,2.3141562413197176,-14.829242543085329,-4.937878666307601,-10.094582006342764,-7.119686811008438,-19.53553921933023,-4.671422708882285,5.095023362364559,-22.976508050137898,-11.428786220833016,15.53581685881299,-13.774438717984497,5.439519776084101,-1.3263012009886574,-3.053167387585117,-15.323941875759123,10.380130550954902,-3.8284520649034426,-6.652379791738694,0.5232445682215386,-5.589089823549918,5.198227949331284,-10.34813401423733,-20.48045695076807,4.998983153322383,8.25237627181759,4.7118540407141705,-20.894931559907214,-12.053007103234656,11.953514192271228,5.580012569251803,-17.441049131590116,0.42538169328225883,-9.980585940158782,12.297761070720282,-14.536846771515135,-6.600943289134263,-10.578256786729996,-20.5853518061778,-7.354451947591418,-1.0421513643860285,17.35146364951638,3.1246002546283753,5.126804996268327,-18.481316194676683,-20.864204992864614,5.608529642084687,2.492889859292058,16.79837780734841,2.8531318774095973,-0.45216385686209826,11.92014711571257,-18.16438877330548,0.09072980945657005,7.808668206118186,16.911254238472054,16.054772598314116,18.018499685382533,-2.2983893694716366,20.920840655322635,7.15397341936468,9.969666041318373,-2.058008151611812,-15.852735725887122,-17.57977460856902,15.629203523440767,13.746022171208912,-7.469133857094581,15.444815543246488,8.02961942944947,-5.804153780049594,5.64774880914295,-13.671895877256171,-7.261612690799847,5.60331715327393,3.1573639133718463,14.586456440227792,-5.544122251747458,-7.121335997005135,9.650434199322875,10.386282853856843,-10.314356330201488,-15.597938508237045,2.353262186728453,1.2782025386633704,-10.895940765973563,-5.362768359596206,8.4887829623636,11.987057250402144,-15.646083312090486,2.158175135272433,-0.04886331933708865,11.118792012308493,14.0861559045032,4.542191097591077,13.713439966459461,-0.9028936855153988,6.238934749195242,10.877515327850915,16.018990475469124,5.563131408018714,13.767501302631144,15.719433966760468,12.890496082646232,-0.6429472842786393,10.944564169903495,7.960789788266734,-8.66077614423232,13.835691514108978,3.9365869239422713,-10.094033760963649,-6.561984868507687,21.04025709708735,-4.345117266051151,-19.891499432689958,-0.31985552807542805,9.267887949667642,11.325924637808289,-7.861483512226422,15.555033634490394,-9.701661551371888,-12.433621458510162,10.093981981681228,-11.001513037332668,11.726919632305409,2.4259798016814806,-8.909754930170758,2.061123375176107,-1.9593237278615376,-10.00078076570731,5.359249143539799,16.25394810281007,-11.666776753280756,-7.736226602379812,5.638500678270372,6.2808788158459095,8.943524187075102,9.896795937791829,-8.514411977845297,8.316644897245151,4.446419958595785,3.254608759060498,2.3422359912015303,-15.516790222973665,-12.284701768338662,-9.917287156249783,-12.529247511268732,3.3023888338613427,-16.033938695268166,9.6933402167086,8.358137178110361,-12.3482603089178,10.048656414733879,-1.9967460653127902,-9.614619127561433,-1.3270987240022443,10.178765389897734,-12.646306888725519,0.039978822771519956,-17.43957765443847,-9.212157827867893,-6.666841821032531,18.212876650368692,15.446012636349133,-0.2534461973714134,12.458248629421652,1.0636397443736827,20.85998765416547,9.117183358987871,1.5526267915557415,5.740448374105327,8.318022995469798,-10.996811449064232,-17.532257419531,5.40802890986283,1.162655787764047,11.33336572884717,-11.10848910785975,7.839816840143381,1.4695048152558463,1.796437787209426,-7.084601881185583,12.74078058692242,-5.82834704467233,-12.215182824079378,16.284410007466906,7.640288351992671,15.996790555548968,11.070943722586184,15.02201116403893,15.642208324954598,10.79614759037511,-8.880029197948488,7.283061636536304,-14.038699717556936,4.7554573209136315,1.215841380343195,-1.1115405216852303,9.795154628159588,13.990098392598922,7.288453329840047,-0.3263530648240742,-17.21988575920204,12.309362314469416,-15.61942911635425,8.727198558700474,13.270673737788488,12.630995810217893,-3.950196463461841,-0.29315515126738156,18.330971629163837,1.5369224590588024,-13.83236934699897,-9.60229512938633,-8.296659351209824,-7.307792312965431,7.798067555146444,-20.52839828501443,1.2837318836660363,16.120417566915684,1.4431982716675944,-12.128192754947472,-17.503014922722674,7.91510067829287,-1.9648874929564462,10.356958351701849,-1.7642554099988383,-7.0707195756254295,-7.170528833083701,10.449950274716223,-3.6715472377132654,9.173220687950895,1.9823536028421804,-1.1135911672629282,9.007536287368907,-12.062703165355947,0.7205952243362378,5.027503030976872,-19.241731767076146,1.2526723436738831,-11.371173330068762,-17.6230996390024,-6.140289112571869,4.376948544153865,7.771823089938248,-15.532124308976345,0.7976302629885071,3.756132176844542,18.31756339755871,7.596377142866304,-9.66316295956373,-11.893650068872201,-10.464335491641274,22.455629138801804,-11.911922693801388,-11.285249302841882,12.43677119271155,-19.403329945634436,5.753988949587188,-4.747448314071922,-7.740859176849443,-11.179260521028892,4.553151508657317,20.19009241623794,0.6148457052302013,-0.12964345061837618,1.7396168419602154,-17.39494893138471,-18.21396884717121,-8.353289084223553,1.1531584361152436,-8.647460698988153,4.49839434948884,-7.967142979479012,4.469546083584586,5.693709790200055,-9.64283173975794,6.803714789737466,6.751240278242932,-1.9802951497840813,-1.8962898479557786,16.574529035642627,8.676751454537508,21.989975756829544,-10.891050188174242,-15.720713267651869,14.853460912250034,3.610207804606843,-3.535938900645224,3.799202628468863,4.103113649715341,-21.034562046921074,8.468299360662897,-10.767554075331006,0.06173079920559443,-7.3892680748519215,-4.607615474196544,4.653957933618122,-10.237564979360327,7.5444546709286335,7.628608846509362,5.382127100677724,2.0977780905874175,-8.315998899608749,-9.363990338648708,8.72376461425117,17.350340812854725,7.449061922762557,1.9186705102026642,5.054812027192676,11.70720679079846,-12.36521735653914,-4.947966161895381,-4.721168834790489,-4.502858467065833,-6.389753400770721,0.6300539996416796,-6.002388895756457,4.133458802283654,6.528640854705881,22.902250775429277,9.945324898340427,9.720545764678256,2.6786444061419137,1.641624393859694,-15.570813358910506,3.009353960778142,16.909094705699456,-4.126710851429449,1.2141277324684439,8.731191931030668,16.286376428466102,-9.557595930060444,22.456676275538932,-3.820877550212168,-10.185670061711779,-3.3055486748140996,8.620564067608427,5.793096880676451,6.3242148313043005,8.523026777082165,-12.58137602784493,16.051916089037455,3.2478821138091996,-6.4537088509746425,-5.119460340812436,-1.2105651648093214,0.869671123785122,0.49667236987943586,-0.9138168514122986,-11.698402322297447,6.632164801722231,-3.7499289983187696,0.32259699662134045,-10.902711257294278,-7.485449176465635,-12.200000024952503,-3.5392414751963646,1.7035011849801616,-4.5432932643306545,11.108195093619235,1.8445747162053663,-10.290368379583269,0.189996140889248,2.859933608787701,-2.2923146536958847,1.4997874327530276,20.442036305511934,-10.26635560424887,6.679869165409392,-9.307277261800774,-11.116528005047751,5.177193138875767,-15.857738935539253,-8.234857467659234,5.425169242737514,4.48612597185801,12.726139094623173,1.1943024502966,9.898795351597117,-7.443259204167075,-3.4396809881368977,-14.311025537424394,-8.100552716745966,-1.1244403441693283,5.7072282120140345,7.2638333550571765,10.381942680372061,1.3369044801275984,-12.805341592852184,-1.0806870981678747,7.654604701566466,-3.6724421954861346,-10.340419594903702,0.9908429466589043,-10.98647095227972,0.7525793415211938,13.482085481768127,-8.864067545902417,-9.976606318345977,10.264379589338409,-4.209685414560585,7.805555338371599,-9.815694931204984,-13.097761821931456,-24.10868370139704,14.320337329828984,4.96185444546439,-5.932299938729994,15.099382619147084,1.3569245789679174,0.7904641992886401,9.508263067153644,4.183791008980275,-10.030918612909085,-15.577916435707937,0.41673332550460995,-6.622758771392812,-8.706151749171626,7.2770645653412025,-5.4850716839740015,5.813691786055488,-4.527463902811741,1.4444857065933765,12.059709276191809,7.855998881056348,-25.67634435307498,-1.564539055969647,13.179572627757404,-4.238556303199833,7.343031609813192,1.4285066348445103,7.206779074134266,-3.3846238769870527,6.444074091293109,-10.579538597226511,9.209266684527513,8.086665156061008,-6.283199157804131,2.7854602786661267,-1.9462983181385844,16.04466651716336,-1.3640624379039297,-7.496399669182226,-4.214338860470484,9.87784449439184,16.2574328940258,7.462252444271271,11.880440297234783,8.099972389343408,-3.4949594151349386,-11.395489087230747,4.02247869665945,11.651088561292207,-8.583852448190338,4.788040535448939,-2.4884776740798458,2.093918812281826,-8.944360521706962,-18.47986110435773,4.193399184956661,-10.855614542444862,5.486096243131265,-8.657856337929742,-5.637508763636931,-5.321739295004261,0.7854657327020664,6.926639551137151,-9.736209704030012,-8.81352197593964,-4.082362169996182,-15.29793606590356,-18.519729653115967,-7.754736558644714,-2.616539099483374,-18.82618302302644,-10.312668510087802,9.734597534250122,0.5631905206364036,11.773758153759804,4.206842013962394,-16.27128164179641,-12.933717811189013,11.831528523942234,10.591509580743399,-11.114583539832681,11.605934440885973,-10.050167633050023,-0.4854304774356368,-9.060924541584495,-3.0607686859696566,-0.6609187119913275,8.018945346890504,-1.1913106035039995,-14.140744342105965,9.79774633538537,-9.497351738254995,-7.599601063396782,-12.737224621075036,0.3981226279449497,-20.694463899666996,-4.582496345381941,16.119167059212725,11.097102507312139,11.95173489472276,-6.149351342860317,-18.769341282328412,-1.8206552504813769,13.793126598446547,2.698293935783183,15.383343485148753,13.715143152820353,-9.24634195331967,10.360738505065545,2.143993351421724,-9.600610134245928,11.655432845242986,-14.911248948621234,-2.85495725854906,-16.263165699899282,1.2818317077791275,-10.43839480997155,-10.032457466089879,-7.862466271113192,14.157966448602274,2.881263472233281,-7.862140295605076,19.65812583359493,11.471614542218715,5.5167488876391415,-1.2245093398788187,11.551660580487914,12.955887209806495,-15.608999500067865,5.885705523214831,9.169651574716722,-0.29833245759839455,1.7046607450973679,-1.4284007347954062,6.127066927994485,11.11804492509505,-19.994643817039087,7.458956981379785,-9.859392913024532,2.0996652177926367,4.636997033639553,5.7195955115961326,3.2043234529500597,-15.454607964024543,5.615111051521732,1.7729333482332816,-17.92144243684991,-1.0263967747146425,21.9468707504446,-1.5568548791333483,-7.080754299965704,-15.208111327336331,-6.906842229037605,14.910405721056238,-1.3911426423502569,11.29874811379814,11.587129718646574,-13.084857558152757,-10.821236571138858,5.87562555034435,-4.945958774092755,3.269876064970403,-9.073660672084747,0.5643491450834399,1.2764836850764605,6.960391231171474,11.177946982011596,-19.250409347449494,11.399347573371681,-8.36019291039687,7.412322187670903,-14.93029427127414,5.361979810337454,-1.319175682271264,-12.34215913383827,-0.11931230491524447,-9.712774847531312,11.364279045144983,11.895215100185528,-3.4426255308459988,-2.137098321863691,-15.145852255202023,-12.181406007599783,-5.796763900435975,3.365814227533345,12.57322080974855,-17.17894668397666,-0.6659721442473341,11.676551328717085,2.0079770606742016,13.890524915274435,15.93121009221078,-18.235466796961248,5.709614034221277,9.355155108530811,-9.981023262695437,15.424868617480572,-0.5428831730653689,14.61296687432817,13.29966817092622,6.590350839319432,-2.9438973463290505,-15.791895749213397,-4.467246316436755,-11.661503369111323,7.779510387755329,-15.632361585874904,11.71833783229793,13.685337698758872,5.858848825721979,-12.78455363621849],\"x2\":[5.267928023819797,4.523392855683868,4.171013284328629,6.018032447348087,9.469484247908733,6.46543212102954,5.0292467236824825,-4.1093027539358005,9.71241572399384,8.427898446520249,4.053259205257012,10.46192831897732,-9.247138997076194,10.57725638129821,5.02726802359162,-5.361863846589434,2.3326624743232904,16.252189080836395,14.41008603197619,5.601079430805541,-21.26546466059866,6.87810449715228,-6.59780241482914,11.198926880547935,3.498153503666549,5.616579387140229,12.448590304437605,-21.264014914994743,10.207553370068894,9.295043023981968,-4.339942157482777,10.737236029427963,-5.465141424697295,-0.3071518681710758,9.831402501378612,-3.676669642713776,6.580606486260577,-2.9205677527760177,3.154615282523007,-6.653239939885545,2.1437565062610067,2.784489046877175,9.577116533354834,-6.623437647283424,2.332050977820151,11.919708217185477,12.382967990620083,8.840965937201178,-2.5185866712516876,-18.503627253336408,12.968926278475678,-0.8558537434775024,6.432259267069451,3.8132105202154754,12.439491583071954,13.637434667487156,-5.507494098344551,3.572280116212579,6.223160616803133,11.354322642165478,11.053832628638991,0.6757930104342553,-2.7787398498586695,11.19569659421958,11.514498281674408,11.570732588979617,-14.439975446948502,10.975111008772474,5.051439234853684,-1.79250880165353,-13.957691902792638,-18.08383074601004,17.984505041842322,10.764032886468842,-5.434183952013435,-14.873523011872292,5.5141170478307036,10.178976759872157,5.586315915560776,11.756465240158342,6.306938652655029,-1.3874854337336993,18.110070156848867,-0.2981092735352796,11.23105139128641,-17.629774103576793,3.4406003660129305,12.318157005693557,13.768399545986814,10.330085994031588,-4.934746562427329,5.87299677420672,-2.780061570840443,-9.581040002366404,21.217478483987144,-2.0727019243879865,10.131443438899819,-1.0519785301314055,2.1556795564623252,21.41156474976331,-19.048552862844932,12.647741760935494,-2.683491148578334,-22.23884953710334,-5.430640551334762,5.514208895237957,-11.488447209753893,18.28076537262248,-2.470391217125362,-10.091044563239462,9.91250893692718,4.99394686429395,11.193024790760417,21.38131090996696,7.6110731725010385,17.79219648666342,-13.329219385739224,-19.272805250253022,10.56185372631017,18.71638319029968,5.086423306839229,-17.22221723194599,-18.597973955118412,12.298820772567721,-18.439951736959266,13.709024504837917,-19.854359920458513,13.791997104915632,11.842471340322342,6.610156793990659,4.816217424549976,5.847835724996846,-18.739367010751803,-7.3843799117093525,8.802380628763624,-6.2154221040566995,4.918717911735542,8.129881978288983,7.878054909571487,-0.2535315254669551,13.973769385072984,10.407830567505606,-19.749918843727137,3.8079104597919913,10.598242311543055,9.615820072444603,-5.654623685553662,12.717945257017488,7.288529755816873,21.209261443439054,11.433419161193045,6.521278378346147,4.206564049205264,-2.401528776325384,14.464535898008812,6.877200691002363,5.054105158019626,-14.548001906595486,8.059512783513867,9.997919815261273,3.9491828327578093,-3.3227420192079675,2.105177386662703,20.916499872108748,9.685246405843907,7.144408020321102,11.4058690380523,-17.514565723149634,1.523881326226463,9.533493531781188,9.002911369255067,-18.673314437886624,1.0669257837280162,18.75768207127011,-11.426502700992073,5.970508283122937,9.7123785900656,-5.8897689441555965,21.239178003145067,10.529991729410574,-1.62554557525562,9.54363053270848,-6.797650997303792,4.231262552112207,4.504919946674438,9.756255118704637,9.239697653287811,10.17653967938718,-0.5142955849283799,9.431626619776004,11.45581787390095,0.14409225790917612,-8.163585982415256,-10.243484029941959,-1.54417158235441,-8.243652246464906,6.138336922901836,-13.393921884854,14.135907005610079,3.8749908623526856,-6.081579468479435,-3.457082539803576,2.6641361038801934,3.209083557342127,-8.469288453693878,15.033106991142567,-10.0511292266966,-13.11150693882841,20.12637632157049,9.270414600687811,-2.51130122807223,7.7449557289598605,-8.247832531827113,9.285041533002488,-18.478506718307827,9.565931805658904,-5.800645797947395,4.74127091045686,-13.204460180554184,10.125041713730255,9.24542638642513,-18.75941113076566,22.103329377213,-17.59305650438248,19.88687210986349,-2.924543378468076,-3.028296042504586,-18.881982251411817,6.3077451197918775,0.3208053529560685,-9.534014357316963,-1.5160467059027523,16.266485242693168,-5.669420932214862,10.241102939083216,-14.446923612292178,10.188462461250293,10.261777450306186,-3.555716375947789,7.250934274541594,23.466039509245004,7.342340326995245,7.124640207568342,5.634181194207074,-1.8620431299440492,-0.9454672854950897,-7.28282190328864,-13.677199309559414,6.7223867012581495,-0.044653311619108293,5.078334139853878,6.465007093148704,12.348186123959456,-1.1482924805787946,20.923061689415903,4.285557392934999,21.25662060086653,7.340624223023226,-1.7599772015592727,-3.248199064102328,-10.764474336240117,17.709096086681434,1.4332779145825674,12.64452862176384,-0.4734003118987919,9.195938260041114,-20.527691833947443,-11.696092217372808,-16.183724720270565,-7.72697728169783,0.5759892389577476,15.381149906363124,-0.13902949506139006,0.33692137955371554,-2.1876485600743196,11.477720289512192,-8.705095296308908,23.139621225628026,-6.576305640703145,0.8750495899348898,0.9940040600966014,4.549815188643902,-9.998358618243518,-8.22151165819806,3.963334256874934,-2.3661008348825447,2.308383113552679,15.991945461289244,21.744170577585315,13.215705986261232,-19.769295013337562,1.825656306048098,2.616347123142297,12.4664999946367,-15.260723123887612,19.414779868389715,16.819524429594043,1.4136857270524068,4.220767755793094,7.884818386880269,16.010541529083223,-5.116113877671817,-16.72480290828526,1.3620114389429836,11.412295549187732,-19.364809913226477,-12.444574239764444,19.99195736668377,-13.579017874209113,7.458357173071337,-0.8215052043048846,5.761569695167002,22.85147822510967,11.058398217672437,-3.0499057076126563,-1.660128699022401,17.648192532548812,16.06971705184335,5.481788427792639,4.854257457204393,-17.648970778779763,-14.043294229870455,-22.2343940460708,-16.606260302499603,-0.5458934094753313,8.668118706587402,-13.520305975867586,5.233049692151557,-8.335649309005944,6.246824216979167,-9.109281642533862,20.499644797286017,15.625141007766164,5.252522519333308,-10.785223545655976,22.973845437833933,-5.82720274224358,7.972326896977998,7.596791198693577,13.373630715041566,-15.49741612913535,10.28622961383571,-18.23352324133977,16.51454939518801,15.139732468550655,-3.0442693434159027,-0.2112088102898695,-3.176138043486271,-2.7419625377270678,20.00164465961068,9.22490995191326,-1.8711130738788186,-17.126237550790627,12.305739983432368,-4.210920009525386,8.74858982194721,-14.223146709417975,8.11820567864954,0.20685433558727684,-14.038565304818993,18.199873232375314,17.641528428964605,-9.283398566298256,-7.760202999684841,-19.482877505485604,12.482379458524493,-0.5639509563769455,5.937496728392848,-7.084143645309778,0.14142596931401327,-11.644682374667024,9.688540194411116,21.036036335742853,21.760542395313525,5.22232533157016,3.82612431727139,-6.483331960038751,13.032618135452795,-9.883620166202572,11.458204900837687,17.954214979940648,8.329179011629195,9.042602032838602,0.2610772739517805,-14.766796273568648,-5.714123360866503,-7.01241444583109,-10.2181211781143,8.764693502370221,1.3002513695816416,-0.3192407038041314,11.428997749531158,6.565012271592252,14.435955315239704,-0.447014983927988,14.966612107558666,21.885092189896273,18.590860304287457,16.178979472250667,10.720295592382003,-4.869070965906552,-5.681792224854454,2.0710792355755436,7.410789617912203,-9.58753451053408,-11.36388592255,16.22703113759777,-2.321034624382747,14.001902402240066,-5.745044831024072,-17.99304000641098,-2.184294960963823,10.305954582416874,11.568314843732708,18.90691405922595,17.877806758504043,-12.20026734407581,23.263922270906583,-18.320447800650435,17.64039875243509,18.406854943431522,22.338455141256432,-2.3258008139020125,-4.273103526092667,13.033107924727805,-18.99738895601047,21.094857227638197,-1.8508006884698918,-10.777024390660486,8.39779718017502,21.69529208970451,15.720803568895533,-18.714206431461683,-17.72765504556726,5.964029576134589,-17.845047542957857,-7.379168263368843,-9.96460119995936,-6.779999020049985,-21.603527561347995,-4.632774557277102,-0.8241247546364823,16.72996400820303,3.9992210575662455,-18.861246207180578,10.715854983747342,4.6242873025724975,11.741698041121822,-2.2569187866803007,-21.24702701719616,-16.209642080648628,-18.533328546457664,3.245261965335769,-21.70664384174835,-10.110495233530978,0.5209514825689407,13.152480197264595,15.781565936066727,21.675707159069717,-8.125870183407239,-14.211325757592803,13.705987278900215,17.676922055640603,-19.122036008846987,13.813679819959988,-1.6381191663629693,-2.944587074422395,-1.979604272997618,-18.164119961660266,3.122317032473909,-0.7340181156985196,-15.777159119722787,-3.2214126184243344,9.616544352340956,-3.372892056980616,-13.450643538455218,-10.711386662264875,-5.130842327224882,-2.375489449468488,-14.60415234589322,4.951481882875248,5.083541753678813,-21.82890582061202,-19.812589545089402,-19.82403834122817,-0.6578160054644104,-7.914063117880016,3.6988685276153217,19.63407219813841,8.249783092774875,-6.451131611542143,3.7949701869056707,-12.596455768406125,-12.634491499996466,2.502019507164862,18.440546201987043,-3.200413025488999,0.5868809562755929,2.7153322765514125,17.09649872457619,-18.83426888812782,-19.729523950724126,-0.1655643933574042,12.67931901280283,11.517883517536507,7.991204579679805,-21.591336847790927,22.864680803173403,-16.00319014511681,22.076705594280266,3.8442186645641137,-19.877873642417953,10.176436024007508,24.131885500316127,-16.22427407777982,-2.4200007848142207,14.137772796376975,6.043116772667002,21.692415227356367,8.04573827844738,0.7725537905756392,-14.336143251881802,6.808439618684352,-4.769235540032873,-12.335619498874118,-12.642013765115403,-6.972031589261942,9.92606828407534,18.720779290322504,-1.061792583935822,3.0086885778054238,21.162788451622205,12.397972109101493,-3.869472067961531,-12.381500650888366,-0.5711714022066535,-21.510983371948075,-1.0995057652059779,22.748693932651793,13.264975794267691,12.218736061324146,-0.39386808399734086,2.5500105744805337,17.83368745812624,0.7416508209607247,-8.557601766525229,-0.44164293257503745,3.2642104035515915,-8.673662815447951,9.053351068033495,7.534186218549955,3.985361780693827,-10.000123334033404,15.0706093698761,13.948440534251796,-4.2763512646098425,12.141122244524748,7.783081442970716,19.87036441833786,-18.618108279996253,10.432716977236206,-11.585440594571269,-21.62868941800791,-0.20649386809414946,-20.064389669967618,-1.2707418849163705,-7.446391802435353,-18.435680084238573,3.3599393179857744,-2.409361664958599,-7.202628913927652,-4.576082179381869,1.986134392290132,-6.3682195844015475,7.254923284626672,-17.856312495516697,13.118737818572779,-16.035937970738953,3.8348276462456843,-1.8157112083932914,9.785631802094638,-0.5950345350387161,-16.170312635082375,-13.369992262541132,-16.430095493745224,-3.922440850331379,4.135490361730631,8.912171247328466,1.9152643090359942,-2.761672829370236,-6.335761587895149,-19.94097622995663,-11.373420622326634,-9.688105990455028,-0.26942762925728686,3.6864497758626205,0.7767252730689138,-3.9602184034843977,9.807794417918746,8.897296640939073,-5.629292240674451,-2.2265797144853434,4.860589381277981,-19.992857762870944,6.62571119331676,10.357884094927767,17.457861367933173,-19.982671770732708,-1.1982667130634612,3.0684039648180277,13.048488091309748,7.823540609074628,22.408288622257224,-19.814158353815117,9.229352344030445,4.470638456436031,-2.525941238593053,-15.843630787735707,0.7740228981330252,1.6861949702584689,11.269492907181325,6.844199070632127,5.4172431608292975,6.47277231891017,6.214742737430597,17.173409818717843,6.710614597469801,3.3290455932337157,-19.962860494181015,17.936939636558023,-6.1275518087637595,2.5203463988562813,-18.902165873254166,2.4115733588077313,15.656769603106847,-7.455418953243713,0.5711702282097735,-4.924637394033846,-13.958234654046166,1.2418861164410526,-8.176914005097236,3.1566904980599992,-19.91815339615422,5.742897241364177,-18.709371539764707,21.2770124133472,-12.32951573090653,3.797039016109656,11.198215429598871,-1.8720266819734084,-18.169261127836684,0.5468537739706612,2.750874529128921,-13.767439123524715,-5.2390034574081925,-3.0404766852254794,-6.398478851813927,6.106886041341785,7.913715176038897,-19.86720047124004,8.258872203196283,-16.79732051006969,6.627685560767272,14.999041710006823,-8.774614544125491,-17.818067871295952,7.319561027955513,-3.3022444689226584,9.146574158749697,9.126310703238588,-5.475765222009394,-15.969103767914037,17.840648040513784,2.692237564457581,4.051912224230201,6.930691850622219,-20.285124990732484,16.879298976617935,6.794022772496328,-4.252179535813367,2.377267277760101,-6.722181643896979,7.239827507464536,-17.362927520976633,-5.76154644651205,-14.184781298047783,-18.205574536233886,2.713955542638641,16.97112084269101,16.113170363578536,-19.84087014844211,-6.089153914248643,17.8137048596722,-11.614757325450514,6.63924551990395,4.51163032541635,-13.517167932132212,17.021302300410735,18.874204837112433,-10.682059573920542,17.46588339569408,10.45436552840913,17.626663264998985,-1.2321174653492464,-4.355732866657775,3.1050557246477113,9.098136719933613,-19.917739907064842,2.13561474187226,1.134943234683997,-13.400307998866978,-3.519272991340037,-15.252535426677513,-5.395148362679019,-4.132020149633577,-13.536996593800808,-7.431843717887002,-3.986162483551048,-11.350094620846189,22.374587031191595,-10.798521557841088,16.268715443756506,10.190586584583043,-21.030119527361506,-5.065515685117033,5.512102548127399,-20.3487867258526,-12.712693927944605,-2.155990880314128,0.11024180316185134,-3.286943911290579,-18.538275585479443,-9.769186298685307,-2.346140688748155,5.684632818676587,4.991571484121724,3.2450175503960583,5.587511509815501,3.667552995674903,-7.298851041608407,-3.9749857361469134,-6.045382142367961,-20.26154595858188,5.958163749017746,11.062082324799443,19.2712025369105,22.523442038886238,6.274355164498751,19.096923752885136,-12.741904101876827,5.047544769019715,-5.235308373641378,21.75148480948218,2.93664595903633,-9.844943336046237,5.9213654011857795,-8.488319842580937,8.996519976320835,-3.5860255370544882,-4.189302014959468,-4.031593398600128,-18.23258215875299,13.413811975510557,9.782258023924228,-0.360547860536929,-7.478051892428208,1.721138725318999,3.800094582162301,4.695847269899864,2.1202657014456903,-4.953897586173152,2.3313711743634595,17.935881981608436,-8.879250896523795,21.066159113412247,-3.8696351747974718,12.948357818466945,16.069357502952727,2.063231157363889,0.686012118411323,16.025407886126256,15.438560435344762,-8.874353645861973,16.102051747108895,9.610232216817142,-1.5689984119821325,-5.068552363600744,22.493713750379765,0.8393650113771607,-0.5652899837032364,-4.413808592338449,-8.27831683449018,13.719478634464048,-0.7364170320296677,15.700163124128466,-1.002177541732575,7.33651417203432,4.771141732036643,5.832088064447496,11.860321777137544,7.0891207339607885,-8.530638356957176,23.275260527333863,3.727367407946269,-13.390698304309067,1.5511526781439806,-5.214856735657151,13.595342924902265,6.66634775524245,-5.457862948426745,2.135109616255718,7.156248593989152,-9.829310242015529,14.048290109404018,-19.7701707095221,0.6788416656460035,-13.207767022935103,-10.424109290206678,-0.7647592446232923,-13.322107371632107,11.525223399455818,-13.168665562715171,16.160228715391884,-6.494508489671057,10.172478822570536,-22.643378131550257,1.8921428110529637,-18.418060084213845,14.148152302984615,-4.750679488912167,-20.459040746384495,-8.274317254272077,-8.128647323460763,-16.216719417376957,-7.248815958982174,6.551430753182149,20.118108523628635,-6.82309551854588,12.353254699765987,-7.011177049557633,2.7327731681069856,-12.886687721932876,-5.01729282844492,-10.764128203380485,19.487415852520968,15.446304069624691,-0.32637439288847137,12.518491963962733,7.482440017371973,13.727503541284369,0.6990741272127621,-19.15660518621454,11.159067026171329,-4.191804723193201,16.229540341348354,7.736635394020309,2.3985700150578477,8.030409699080636,4.893506878867735,1.3491613491017196,-5.481911620022916,-3.9249562633019663,0.4777796164321526,-19.44277776759912,4.635996317635588,12.973723088972054,-8.765756035315519,11.31781179660879,-18.7356074154065,-11.612470200098192,-21.31281593995163,-5.073543168759931,-22.19926444376868,-7.117625980850081,-7.358444020574027,-13.651057700478393,5.355556979641966,18.822953126578476,12.768856833076084,1.916333862492206,4.126899878025583,-8.22465556178236,-1.2109940342413075,-9.751029562873102,10.232840563066217,-0.19328907761243025,-5.305834155997965,-10.781828066483394,-14.160050606643784,16.130315388622087,3.2184034379067885,-3.7528608798130336,10.963719357590072,15.553227831030556,12.691380297911044,-16.114506173981024,-7.109178974445785,-16.80520280342262,-12.926453092847092,-4.683984772220649,10.15240241303803,11.55200695620304,4.914984496899923,12.362310183700579,-19.21563718313746,2.9001663756966165,8.354728222714897,-11.627421708895758,-3.749676765007229,-19.723390377754864,-11.584015041085081,-2.2875370130398576,5.441760298932389,-1.0905235100706563,16.902460317502094,5.711735573691979,-0.2587872427832284,2.1448953209334816,2.6795842651043404,-1.069794476192569,3.180460721907089,18.396022009969823,4.048953976138479,-11.92796425649929,-10.735916783807953,8.156232228550664,-7.605747432064234,-3.526470296904966,-20.01875094228859,11.323772685164162,2.252081101583253,-6.083026527387441,-14.437796802841484,-5.343639957078978,6.954013724215564,-2.272239044345114,-2.3413090111137365,-4.598658382914188,-2.865054453119896,17.676745115507895,7.021398587021289,13.16061198661337,11.41831945688617,-8.633021047146764,16.183835709537146,11.289354639617663,-7.861175023963086,7.136647624145874,19.138816099015795,-13.62785193128728,4.808084827105382,-1.438350738843577,-5.391221438837952,-19.20594760644814,-3.637295188894836,-15.398705916069217,4.663445312266111,-18.633981730901436,-13.753758937641914,-7.0545680095501115,7.198582687921278,-16.51063127778159,-4.86398769343743,1.487549941940602,17.104828863192388,0.6123833630458335,-15.55230003634895,-0.6015105997187435,8.138204877681819,6.932069793917214,-4.63829060755098,-5.261618794068405,4.161300431464699,7.334510170848125,10.04129129518566,7.30448262688926,-8.893705680854024,-15.687355368960194,-3.5561120146990435,-12.43940716476366,-14.080049506172811,7.373506416882657,-17.081525150668153,2.832238113662605,22.28400031021685,12.569994031067788,-0.308931506325964,11.276260110961601,11.260350143771984,14.093064459606081,-9.708430978007504,1.5083379171660687,-4.320551095712241,-8.676544198225184,-2.719065287635013,-9.293071243932971,-0.8956498508811479,-3.6083055906959682,19.083465702458383,-8.762868936609097]}},\"id\":\"5f49541f-8312-4d39-a110-78b944de74df\",\"type\":\"ColumnDataSource\"},{\"attributes\":{\"plot\":{\"id\":\"16be4258-a6f7-476e-9339-bfc454e7928b\",\"subtype\":\"Figure\",\"type\":\"Plot\"},\"source\":{\"id\":\"5f49541f-8312-4d39-a110-78b944de74df\",\"type\":\"ColumnDataSource\"},\"text\":{\"field\":\"names\"},\"text_align\":\"center\",\"text_color\":{\"value\":\"#555555\"},\"text_font_size\":{\"value\":\"8pt\"},\"x\":{\"field\":\"x1\"},\"y\":{\"field\":\"x2\"},\"y_offset\":{\"value\":6}},\"id\":\"2596b762-7d1c-4b5d-b3e5-51b4f30efe7e\",\"type\":\"LabelSet\"},{\"attributes\":{\"fill_alpha\":{\"value\":0.1},\"fill_color\":{\"value\":\"#1f77b4\"},\"line_alpha\":{\"value\":0.1},\"line_color\":{\"value\":\"#1f77b4\"},\"size\":{\"units\":\"screen\",\"value\":8},\"x\":{\"field\":\"x1\"},\"y\":{\"field\":\"x2\"}},\"id\":\"482bf155-3b3d-4865-a72e-b21f72435dd1\",\"type\":\"Circle\"},{\"attributes\":{\"plot\":{\"id\":\"16be4258-a6f7-476e-9339-bfc454e7928b\",\"subtype\":\"Figure\",\"type\":\"Plot\"}},\"id\":\"36fe68f3-dc5b-4b50-81b2-292a8a194ce5\",\"type\":\"ResetTool\"},{\"attributes\":{\"plot\":{\"id\":\"16be4258-a6f7-476e-9339-bfc454e7928b\",\"subtype\":\"Figure\",\"type\":\"Plot\"}},\"id\":\"c911d03f-aa50-434b-818a-75031894a115\",\"type\":\"PanTool\"},{\"attributes\":{\"plot\":null,\"text\":\"word2vec T-SNE for most common words\"},\"id\":\"e97ff0f5-0b8b-4bfa-aba0-70f99404c81c\",\"type\":\"Title\"},{\"attributes\":{\"plot\":{\"id\":\"16be4258-a6f7-476e-9339-bfc454e7928b\",\"subtype\":\"Figure\",\"type\":\"Plot\"},\"ticker\":{\"id\":\"10b22f8b-8ba6-49c4-ab0d-3b180871a872\",\"type\":\"BasicTicker\"}},\"id\":\"a416d98a-5f37-4a7a-9a4e-ed1ee33e534c\",\"type\":\"Grid\"},{\"attributes\":{\"plot\":{\"id\":\"16be4258-a6f7-476e-9339-bfc454e7928b\",\"subtype\":\"Figure\",\"type\":\"Plot\"}},\"id\":\"5a5ad64f-f1d0-4990-9246-4ea909d58084\",\"type\":\"SaveTool\"}],\"root_ids\":[\"16be4258-a6f7-476e-9339-bfc454e7928b\"]},\"title\":\"Bokeh Application\",\"version\":\"0.12.2\"}};\n",
       "            var render_items = [{\"docid\":\"d34a17a0-ae36-4d08-98f3-cbfc8ae1a739\",\"elementid\":\"6ccfd5e6-fc09-4c44-9f15-c8ac4c803843\",\"modelid\":\"16be4258-a6f7-476e-9339-bfc454e7928b\"}];\n",
       "            \n",
       "            Bokeh.embed.embed_items(docs_json, render_items);\n",
       "        });\n",
       "      },\n",
       "      function(Bokeh) {\n",
       "      }\n",
       "    ];\n",
       "  \n",
       "    function run_inline_js() {\n",
       "      \n",
       "      if ((window.Bokeh !== undefined) || (force === \"1\")) {\n",
       "        for (var i = 0; i < inline_js.length; i++) {\n",
       "          inline_js[i](window.Bokeh);\n",
       "        }if (force === \"1\") {\n",
       "          display_loaded();\n",
       "        }} else if (Date.now() < window._bokeh_timeout) {\n",
       "        setTimeout(run_inline_js, 100);\n",
       "      } else if (!window._bokeh_failed_load) {\n",
       "        console.log(\"Bokeh: BokehJS failed to load within specified timeout.\");\n",
       "        window._bokeh_failed_load = true;\n",
       "      } else if (!force) {\n",
       "        var cell = $(\"#6ccfd5e6-fc09-4c44-9f15-c8ac4c803843\").parents('.cell').data().cell;\n",
       "        cell.output_area.append_execute_result(NB_LOAD_WARNING)\n",
       "      }\n",
       "  \n",
       "    }\n",
       "  \n",
       "    if (window._bokeh_is_loading === 0) {\n",
       "      console.log(\"Bokeh: BokehJS loaded, going straight to plotting\");\n",
       "      run_inline_js();\n",
       "    } else {\n",
       "      load_libs(js_urls, function() {\n",
       "        console.log(\"Bokeh: BokehJS plotting callback run at\", now());\n",
       "        run_inline_js();\n",
       "      });\n",
       "    }\n",
       "  }(this));\n",
       "</script>"
      ]
     },
     "metadata": {},
     "output_type": "display_data"
    }
   ],
   "source": [
    "p = figure(tools=\"pan,wheel_zoom,reset,save\",\n",
    "           toolbar_location=\"above\",\n",
    "           title=\"word2vec T-SNE for most common words\")\n",
    "\n",
    "source = ColumnDataSource(data=dict(x1=words_top_wiki_tsne[:,0],\n",
    "                                    x2=words_top_wiki_tsne[:,1],\n",
    "                                    names=words_top_wiki))\n",
    "\n",
    "p.scatter(x=\"x1\", y=\"x2\", size=8, source=source)\n",
    "\n",
    "labels = LabelSet(x=\"x1\", y=\"x2\", text=\"names\", y_offset=6,\n",
    "                  text_font_size=\"8pt\", text_color=\"#555555\",\n",
    "                  source=source, text_align='center')\n",
    "p.add_layout(labels)\n",
    "\n",
    "show(p)"
   ]
  },
  {
   "cell_type": "code",
   "execution_count": null,
   "metadata": {
    "collapsed": true
   },
   "outputs": [],
   "source": []
  }
 ],
 "metadata": {
  "anaconda-cloud": {},
  "celltoolbar": "Raw Cell Format",
  "kernelspec": {
   "display_name": "Python [default]",
   "language": "python",
   "name": "python3"
  },
  "language_info": {
   "codemirror_mode": {
    "name": "ipython",
    "version": 3
   },
   "file_extension": ".py",
   "mimetype": "text/x-python",
   "name": "python",
   "nbconvert_exporter": "python",
   "pygments_lexer": "ipython3",
   "version": "3.5.2"
  }
 },
 "nbformat": 4,
 "nbformat_minor": 0
}
